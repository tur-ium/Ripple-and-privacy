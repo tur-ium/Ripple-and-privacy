{
 "cells": [
  {
   "cell_type": "markdown",
   "metadata": {},
   "source": [
    "# Analysis of Ripple transaction data for 7 days from 21st May 2017 - 28th May 2017"
   ]
  },
  {
   "cell_type": "code",
   "execution_count": 1,
   "metadata": {
    "collapsed": false
   },
   "outputs": [],
   "source": [
    "import csv\n",
    "import random\n",
    "import tqdm\n",
    "import datetime\n",
    "import pandas as pd\n",
    "from dict_tools import *"
   ]
  },
  {
   "cell_type": "code",
   "execution_count": 55,
   "metadata": {
    "collapsed": true
   },
   "outputs": [],
   "source": [
    "#FUNCTIONS\n",
    "def coarsen_time(timestamp,degree):\n",
    "    '''Coarsen time by the degree `degree`.\n",
    "    Degree is either 'd' (day), 'm' (minute), 'h' (hour), 's' (second), or False (exclude)\n",
    "    '''\n",
    "    if degree == 'd':\n",
    "        return timestamp[0:10]\n",
    "    elif degree == 'h':\n",
    "        return timestamp[0:13]\n",
    "    elif degree == 'm':\n",
    "        return timestamp[0:16]\n",
    "    elif degree == 's':\n",
    "        return timestamp[0:19]\n",
    "    else:\n",
    "        return None\n",
    "        \n",
    "unknown_curr = set()\n",
    "def coarsen_amount(amount,degree,currency):\n",
    "    '''Coarsen amount by the degree `degree`, which depends on the strength of\\\n",
    "        the `currency`. \n",
    "        `degree` can take:\n",
    "        'm'\" max, 'h': High, 'm': Medium, 'l': low\n",
    "        \n",
    "        Note that strength is not checked online, so it may not\\\n",
    "        be accurate if the strength of a currency has changed dramatically\n",
    "        \n",
    "        Note that rounding may not be perfect owing to floating point issues\n",
    "    '''\n",
    "    #Strength of currencies in 2014, I'm going to check these (I think XRP is \\\n",
    "    # now about as strong as the pound)\n",
    "    \n",
    "    strong_curr = ('BTC', 'XAG','XAU', 'XPT')\n",
    "    med_curr = ('CNY','EUR','USD','AUD','GBP','JPY','XRP') #<- XRP DIFFERENT TO ORIGINAL PAPER\n",
    "    weak_curr = ('CCK','STR','KRW','MTL')\n",
    "    \n",
    "    lookup_strong = {'h': 1e-3, 'a': 1e-2, 'l': 1e-1}\n",
    "    lookup_med = {'h': 1e1, 'a': 1e2, 'l': 1e3}\n",
    "    lookup_weak = {'h': 1e5, 'a': 1e6, 'l': 1e7}\n",
    "    if degree is False:\n",
    "        return None\n",
    "    elif degree == 'm':\n",
    "        return amount\n",
    "    else:\n",
    "        if currency in strong_curr:\n",
    "            prec = lookup_strong[degree]\n",
    "        elif currency in med_curr:\n",
    "            prec = lookup_med[degree]\n",
    "        elif currency in weak_curr:\n",
    "            prec = lookup_weak[degree]\n",
    "        else:\n",
    "            unknown_curr.add(currency)\n",
    "            #print(\"Unknown currency {}\".format(currency))\n",
    "            prec = 1\n",
    "    \n",
    "        coarse_amount = float(int(round(amount/prec)))*prec\n",
    "\n",
    "        return coarse_amount\n",
    "\n",
    "\n",
    "def by_point(data_by_sender):\n",
    "    data_by_point = {}\n",
    "    for sender in data_by_sender:\n",
    "        for datapoint in data_by_sender[sender]:\n",
    "            if datapoint not in data_by_point:\n",
    "                data_by_point[datapoint] = set()\n",
    "            data_by_point[datapoint].add(sender)\n",
    "    return data_by_point"
   ]
  },
  {
   "cell_type": "code",
   "execution_count": 3,
   "metadata": {
    "collapsed": true
   },
   "outputs": [],
   "source": [
    "#LOAD DATA\n",
    "f1 = 'ripple_week1.csv'\n",
    "files = [f1]\n",
    "\n",
    "#start_date = datetime.date(2013,1,1)\n",
    "#end_date = datetime.date(2013,4,22)\n",
    "#date_list = pd.date_range(start_date,end_date,freq=\"1D\")\n",
    "#\n",
    "#files = []\n",
    "#for day in date_list:\n",
    "#    print(\"Current date: {}\".format(day.strftime(\"%Y-%m-%d\")))\n",
    "#    this_day = day.strftime(\"%Y-%m-%d\")\n",
    "#    next_day = (day+datetime.timedelta(days=1)).strftime(\"%Y-%m-%d\")\n",
    "#    files.append(\"Ripple_transactions_{}_to_{}.csv\".format(this_day,next_day))\n",
    "\n",
    "def load_data_by_sender(files,a_res,include_c,t_res,include_d):\n",
    "    '''Create dictionary from a list of file names `file` \\\n",
    "        with keys being senders and datapoints by tuple \\\n",
    "        (Amount, Currency, Time, Destination)'''\n",
    "    data_by_sender = {}\n",
    "    for file in files:\n",
    "        i = 0\n",
    "        print(file)\n",
    "        for line in tqdm.tqdm(csv.reader(open(file,'r'))):\n",
    "            if i == 0:\n",
    "                header = line\n",
    "            else:\n",
    "                sender = line[header.index('Sender')]\n",
    "                \n",
    "                \n",
    "                curr = line[header.index('Currency')]\n",
    "                amount = coarsen_amount(float(line[header.index('Amount')]),a_res,curr)   #<- COARSENING \n",
    "                time = coarsen_time(line[header.index('Timestamp')],t_res)       #<- COARSENING\n",
    "                if include_d:\n",
    "                    destination = line[header.index('Destination')]\n",
    "                else:\n",
    "                    destination = None\n",
    "                if not include_c:\n",
    "                    curr = None\n",
    "                datapoint = tuple([amount,curr,time,destination])\n",
    "                \n",
    "                if sender not in data_by_sender:\n",
    "                    data_by_sender[sender] = set() \n",
    "                data_by_sender[sender].add(tuple(datapoint))\n",
    "            i+=1\n",
    "    return data_by_sender"
   ]
  },
  {
   "cell_type": "code",
   "execution_count": 8,
   "metadata": {
    "collapsed": true
   },
   "outputs": [],
   "source": [
    "def get_points_to_users(dataset):\n",
    "    \"\"\"\n",
    "    Returns a dictionary mapping the datapoints (antenna,time) pairs to the users who\n",
    "    were recorded at that datapoint\n",
    "    \n",
    "    In other words, this reverses the dictionary from 'dataset'\n",
    "    \"\"\"\n",
    "    new_data= {}\n",
    "    for user in dataset:\n",
    "        for point in dataset[user]:\n",
    "            if point not in new_data:\n",
    "                new_data[point] = set([user])\n",
    "            else:\n",
    "                new_data[point].add(user)\n",
    "    return new_data\n",
    "\n",
    "def get_unicity(dataset,p,npeople):\n",
    "    \"\"\"\n",
    "    Returns unicity (float) of 'dataset' (dict), where 'p' is number of points sampled\n",
    "    \"\"\"\n",
    "    \n",
    "    if npeople != \"all\":\n",
    "        npeople = int(npeople)\n",
    "    else:\n",
    "        npeople = len(dataset)\n",
    "        \n",
    "    #dataset = {0:set([(antenna1,time1),(antenna2,time2),etc.]),\n",
    "    #           1:set([(antenna1,time1),(antenna2,time2),etc.]),...etc.}\n",
    "    points_to_users = get_points_to_users(dataset)\n",
    "    print(\"User number: \",len(dataset))\n",
    "    print(\"Point number: \",len(points_to_users))\n",
    "    count = 0\n",
    "    unique_users = set()\n",
    "    users = random.sample(list(dataset.keys()),npeople)\n",
    "    \n",
    "    users_included = set() #<- Users with at least p points\n",
    "#    print(users)\n",
    "    for u in users:\n",
    "#        print(u)\n",
    "        u_data = dataset[u]\n",
    "#        print(list(u_data))\n",
    "        if len(u_data) < p: # <- NOT \n",
    "            continue\n",
    "        else:\n",
    "            p_points = random.sample(u_data,p)\n",
    "            users_included.add(u)\n",
    "        is_unique = True\n",
    "        \n",
    "        similar_people = set(dataset.keys())\n",
    "#        print(p_points)\n",
    "        for point in p_points:\n",
    "#            print(points_to_users[point])\n",
    "#            print(len(points_to_users[point]),len(similar_people))\n",
    "            similar_people = similar_people.intersection(points_to_users[point])\n",
    "#        print(similar_people)\n",
    "#        print(u)\n",
    "    \n",
    "\n",
    "        if len(similar_people) > 1:\n",
    "            is_unique = False\n",
    "            continue #<-NEED TO CONTINUE NOT BREAK!\n",
    "        \n",
    "        if is_unique:\n",
    "            #print(u)\n",
    "            unique_users.add(u) \n",
    "        count += 1\n",
    "    print(\"Users included:\",len(users_included))\n",
    "    return len(unique_users)/len(users_included) #<-COMPARING WITH NUMBER OF USERS WITH AT LEAST p POINTS"
   ]
  },
  {
   "cell_type": "markdown",
   "metadata": {},
   "source": [
    "# Notes to self"
   ]
  },
  {
   "cell_type": "code",
   "execution_count": null,
   "metadata": {
    "collapsed": true
   },
   "outputs": [],
   "source": [
    "#Options for Accuracy (acc)\n",
    "curr_acc = 'm' #m = max, a=av, l=low\n",
    "t_acc = 'd'    #'d' (day), 'm' (minute), 's' (second)"
   ]
  },
  {
   "cell_type": "code",
   "execution_count": 17,
   "metadata": {
    "collapsed": false,
    "scrolled": true
   },
   "outputs": [
    {
     "name": "stdout",
     "output_type": "stream",
     "text": [
      "Help on function load_data_by_sender in module __main__:\n",
      "\n",
      "load_data_by_sender(files, a_res, include_c, t_res, include_d)\n",
      "    Create dictionary from a list of file names `file`         with keys being senders and datapoints by tuple         (Amount, Currency, Time, Destination)\n",
      "\n"
     ]
    }
   ],
   "source": [
    "help(load_data_by_sender)"
   ]
  },
  {
   "cell_type": "markdown",
   "metadata": {},
   "source": [
    "* XRP counted as being a low value currency in 2014 paper, but it has become comparable to the pound. Tested\n",
    "* User behaviour may have changed"
   ]
  },
  {
   "cell_type": "markdown",
   "metadata": {},
   "source": [
    "# Am  C Tsc D"
   ]
  },
  {
   "cell_type": "markdown",
   "metadata": {},
   "source": [
    "Paper: \"we are able to determine uniquely more than 99.83% of transaction sender addresses.\""
   ]
  },
  {
   "cell_type": "code",
   "execution_count": 144,
   "metadata": {
    "collapsed": false,
    "scrolled": true
   },
   "outputs": [
    {
     "name": "stdout",
     "output_type": "stream",
     "text": [
      "ripple_week1.csv\n"
     ]
    },
    {
     "name": "stderr",
     "output_type": "stream",
     "text": [
      "213077it [00:02, 100487.75it/s]\n"
     ]
    },
    {
     "name": "stdout",
     "output_type": "stream",
     "text": [
      "Number of senders: 20447 (check against stats from get_unicity)\n",
      "Number of different datapoints: 208879 (check against stats from get_unicity)\n"
     ]
    }
   ],
   "source": [
    "data_by_sender = load_data_by_sender(files,'m',True,'s',True)\n",
    "data_by_point = by_point(data_by_sender)\n",
    "\n",
    "#Number of senders\n",
    "print(\"Number of senders: {} (check against stats from get_unicity)\".format(len(data_by_sender)))\n",
    "print(\"Number of different datapoints: {} (check against stats from get_unicity)\".format(len(data_by_point)))"
   ]
  },
  {
   "cell_type": "code",
   "execution_count": 58,
   "metadata": {
    "collapsed": false
   },
   "outputs": [
    {
     "name": "stdout",
     "output_type": "stream",
     "text": [
      "User number:  20447\n",
      "Point number:  208879\n",
      "Users included: 10000\n"
     ]
    },
    {
     "data": {
      "text/plain": [
       "0.9901"
      ]
     },
     "execution_count": 58,
     "metadata": {},
     "output_type": "execute_result"
    }
   ],
   "source": [
    "get_unicity(data_by_sender,1,1e4)"
   ]
  },
  {
   "cell_type": "code",
   "execution_count": 56,
   "metadata": {
    "collapsed": true
   },
   "outputs": [],
   "source": [
    "#Unicity w/ low XRP: 0.9903"
   ]
  },
  {
   "cell_type": "markdown",
   "metadata": {},
   "source": [
    "# Am  - Tsc D"
   ]
  },
  {
   "cell_type": "markdown",
   "metadata": {},
   "source": [
    "Paper: \"we can still de-anonymize the sender account for 99.83% of the transactions\""
   ]
  },
  {
   "cell_type": "code",
   "execution_count": 51,
   "metadata": {
    "collapsed": false,
    "scrolled": true
   },
   "outputs": [
    {
     "name": "stdout",
     "output_type": "stream",
     "text": [
      "ripple_week1.csv\n"
     ]
    },
    {
     "name": "stderr",
     "output_type": "stream",
     "text": [
      "213077it [00:02, 104096.14it/s]\n"
     ]
    },
    {
     "name": "stdout",
     "output_type": "stream",
     "text": [
      "Number of senders: 20447 (check against stats from get_unicity)\n",
      "Number of different datapoints: 208879 (check against stats from get_unicity)\n"
     ]
    }
   ],
   "source": [
    "data_by_sender = load_data_by_sender(files,'m',False,'s',True)\n",
    "\n",
    "data_by_point = by_point(data_by_sender)\n",
    "\n",
    "#Number of senders\n",
    "print(\"Number of senders: {} (check against stats from get_unicity)\".format(len(data_by_sender)))\n",
    "print(\"Number of different datapoints: {} (check against stats from get_unicity)\".format(len(data_by_point)))"
   ]
  },
  {
   "cell_type": "code",
   "execution_count": 52,
   "metadata": {
    "collapsed": false
   },
   "outputs": [
    {
     "name": "stdout",
     "output_type": "stream",
     "text": [
      "User number:  20447\n",
      "Point number:  208879\n",
      "Users included: 10000\n"
     ]
    },
    {
     "data": {
      "text/plain": [
       "0.9906"
      ]
     },
     "execution_count": 52,
     "metadata": {},
     "output_type": "execute_result"
    }
   ],
   "source": [
    "get_unicity(data_by_sender,1,1e4)"
   ]
  },
  {
   "cell_type": "markdown",
   "metadata": {},
   "source": [
    "# Am C Tsc -"
   ]
  },
  {
   "cell_type": "markdown",
   "metadata": {},
   "source": [
    "Paper: \"the percentage of unique payments slightly decreases to 93.78%."
   ]
  },
  {
   "cell_type": "code",
   "execution_count": 53,
   "metadata": {
    "collapsed": false
   },
   "outputs": [
    {
     "name": "stdout",
     "output_type": "stream",
     "text": [
      "ripple_week1.csv\n"
     ]
    },
    {
     "name": "stderr",
     "output_type": "stream",
     "text": [
      "213077it [00:02, 96033.42it/s] \n"
     ]
    },
    {
     "name": "stdout",
     "output_type": "stream",
     "text": [
      "Number of senders: 20447 (check against stats from get_unicity)\n",
      "Number of different datapoints: 202841 (check against stats from get_unicity)\n"
     ]
    }
   ],
   "source": [
    "data_by_sender = load_data_by_sender(files,'m',True,'s',False)\n",
    "\n",
    "data_by_point = by_point(data_by_sender)\n",
    "\n",
    "#Number of senders\n",
    "print(\"Number of senders: {} (check against stats from get_unicity)\".format(len(data_by_sender)))\n",
    "print(\"Number of different datapoints: {} (check against stats from get_unicity)\".format(len(data_by_point)))"
   ]
  },
  {
   "cell_type": "code",
   "execution_count": 54,
   "metadata": {
    "collapsed": false
   },
   "outputs": [
    {
     "name": "stdout",
     "output_type": "stream",
     "text": [
      "User number:  20447\n",
      "Point number:  202841\n",
      "Users included: 10000\n"
     ]
    },
    {
     "data": {
      "text/plain": [
       "0.9827"
      ]
     },
     "execution_count": 54,
     "metadata": {},
     "output_type": "execute_result"
    }
   ],
   "source": [
    "get_unicity(data_by_sender,1,1e4)"
   ]
  },
  {
   "cell_type": "markdown",
   "metadata": {},
   "source": [
    "# - C Tsc D"
   ]
  },
  {
   "cell_type": "markdown",
   "metadata": {},
   "source": [
    "Paper: \"drops to 89:86%\""
   ]
  },
  {
   "cell_type": "code",
   "execution_count": 156,
   "metadata": {
    "collapsed": false,
    "scrolled": true
   },
   "outputs": [
    {
     "name": "stdout",
     "output_type": "stream",
     "text": [
      "ripple_week1.csv\n"
     ]
    },
    {
     "name": "stderr",
     "output_type": "stream",
     "text": [
      "213077it [00:02, 99538.38it/s] \n"
     ]
    },
    {
     "name": "stdout",
     "output_type": "stream",
     "text": [
      "Number of senders: 20447 (check against stats from get_unicity)\n",
      "Number of different datapoints: 196419 (check against stats from get_unicity)\n"
     ]
    }
   ],
   "source": [
    "data_by_sender = load_data_by_sender(files,False,True,'s',True)\n",
    "\n",
    "data_by_point = by_point(data_by_sender)\n",
    "\n",
    "#Number of senders\n",
    "print(\"Number of senders: {} (check against stats from get_unicity)\".format(len(data_by_sender)))\n",
    "print(\"Number of different datapoints: {} (check against stats from get_unicity)\".format(len(data_by_point)))"
   ]
  },
  {
   "cell_type": "code",
   "execution_count": 174,
   "metadata": {
    "collapsed": false
   },
   "outputs": [
    {
     "name": "stdout",
     "output_type": "stream",
     "text": [
      "User number:  20447\n",
      "Point number:  196419\n",
      "Users included: 10000\n",
      "0.7217\n"
     ]
    }
   ],
   "source": [
    "_TscCD = get_unicity(data_by_sender,1,1e4)\n",
    "print(_TscCD)"
   ]
  },
  {
   "cell_type": "markdown",
   "metadata": {},
   "source": [
    "> Significantly different to paper"
   ]
  },
  {
   "cell_type": "code",
   "execution_count": 175,
   "metadata": {
    "collapsed": true
   },
   "outputs": [],
   "source": [
    "def by_time(data_by_sender):\n",
    "    data_by_time = {}\n",
    "    for sender in data_by_sender:\n",
    "        for datapoint in data_by_sender[sender]:\n",
    "            time = datapoint[2]\n",
    "            if time not in data_by_time:\n",
    "                data_by_time[time] = set()\n",
    "            data_by_time[time].add(sender)\n",
    "    return data_by_time"
   ]
  },
  {
   "cell_type": "markdown",
   "metadata": {},
   "source": [
    "Sort into a dict of time, # of senders at a time"
   ]
  },
  {
   "cell_type": "code",
   "execution_count": 171,
   "metadata": {
    "collapsed": false,
    "scrolled": true
   },
   "outputs": [],
   "source": [
    "users_by_time = by_time(data_by_sender)"
   ]
  },
  {
   "cell_type": "code",
   "execution_count": 172,
   "metadata": {
    "collapsed": false,
    "scrolled": true
   },
   "outputs": [
    {
     "data": {
      "text/plain": [
       "[('2017-05-21T12:55:21',\n",
       "  {'r3mjvvDqHu63vHueSTZXB6gtqVSKrHpLu3',\n",
       "   'rhPQwaCHxDhuNYKd6rPrT5sCZ21AgX4tg3'}),\n",
       " ('2017-05-24T22:27:40',\n",
       "  {'rByVBP2LsLyvt2xZm86voQgbKvdqpE9hJG',\n",
       "   'rDsbeomae4FXwgQTJp9Rs64Qg9vDiTCdBv'})]"
      ]
     },
     "execution_count": 172,
     "metadata": {},
     "output_type": "execute_result"
    }
   ],
   "source": [
    "dict_sample(users_by_time)"
   ]
  },
  {
   "cell_type": "code",
   "execution_count": 196,
   "metadata": {
    "collapsed": false,
    "scrolled": true
   },
   "outputs": [],
   "source": [
    "maxm = 0\n",
    "peak_time = ''\n",
    "data_by_time_agg = {}\n",
    "for time in users_by_time.keys():\n",
    "    data_by_time_agg[time] = len(data_by_time[time])\n",
    "    count = len(users_by_time[time])\n",
    "    if count > maxm:\n",
    "        maxm = count\n",
    "        peak_time = time\n"
   ]
  },
  {
   "cell_type": "code",
   "execution_count": 227,
   "metadata": {
    "collapsed": false,
    "scrolled": false
   },
   "outputs": [
    {
     "data": {
      "text/plain": [
       "<matplotlib.text.Text at 0x1943d9dc6d8>"
      ]
     },
     "execution_count": 227,
     "metadata": {},
     "output_type": "execute_result"
    },
    {
     "name": "stderr",
     "output_type": "stream",
     "text": [
      "C:\\Users\\admin\\Anaconda3\\lib\\site-packages\\matplotlib\\font_manager.py:1297: UserWarning: findfont: Font family ['normal'] not found. Falling back to DejaVu Sans\n",
      "  (prop.get_family(), self.defaultFamily[fontext]))\n"
     ]
    },
    {
     "data": {
      "image/png": "[encoded data removed]",
      "text/plain": [
       "<matplotlib.figure.Figure at 0x1943dab6320>"
      ]
     },
     "metadata": {},
     "output_type": "display_data"
    }
   ],
   "source": [
    "plt.figure()\n",
    "plt.title(\"Number of Ripple senders at a given *active* second\")\n",
    "hist = plt.hist(list(data_by_time_agg.values()),bins=57)\n",
    "plt.xlim([0,10])\n",
    "plt.xlabel('number of users per time')"
   ]
  },
  {
   "cell_type": "code",
   "execution_count": 225,
   "metadata": {
    "collapsed": false
   },
   "outputs": [
    {
     "name": "stdout",
     "output_type": "stream",
     "text": [
      "Number of active seconds during which there is only one sender recorded as having made a transaction: 56529.0\n",
      "0.532137814177\n"
     ]
    }
   ],
   "source": [
    "print(\"Number of active seconds during which there is only one sender recorded as having made a transaction:\",hist[0][0])\n",
    "print(hist[0][0]/len(data_by_time_agg))"
   ]
  },
  {
   "cell_type": "markdown",
   "metadata": {},
   "source": [
    "> This intuitively seems odd. Does not concur with the pattern observed Perhaps there was some strange activity? Maybe the timestamp is the time when the ledger was validated?\n",
    "\n",
    "> Try using larger dataset and see if the pattern persists"
   ]
  },
  {
   "cell_type": "markdown",
   "metadata": {},
   "source": [
    "## Most popular times"
   ]
  },
  {
   "cell_type": "code",
   "execution_count": 222,
   "metadata": {
    "collapsed": false
   },
   "outputs": [
    {
     "data": {
      "text/plain": [
       "57"
      ]
     },
     "execution_count": 222,
     "metadata": {},
     "output_type": "execute_result"
    }
   ],
   "source": [
    "max(data_by_time_agg.values())"
   ]
  },
  {
   "cell_type": "code",
   "execution_count": 195,
   "metadata": {
    "collapsed": false
   },
   "outputs": [
    {
     "name": "stdout",
     "output_type": "stream",
     "text": [
      "Most pop. time is 2017-05-22T13:49:11\n",
      "Max. #users at a given sec: 57\n",
      "Senders at this time:\n"
     ]
    },
    {
     "data": {
      "text/plain": [
       "{'r37yVoUSWvwLsPxeuGPnUQ6V8wppi2v9D7',\n",
       " 'r4Lr6McMbNbKb8arUqhhwfma27MDCXrvJZ',\n",
       " 'r4U2EWYyMEy3fipb4xUbVPEXDp7Kr9pV2r',\n",
       " 'r4sGo6V8KvTiHd1VYZSuBCKNy2MCrNFoyv',\n",
       " 'r9CF85DuP2XnQQV4gXKZWgSpT8oJvUnXBR',\n",
       " 'r9DLH6ugoutnMYtJoBkzJEnnhLYj6isFRM',\n",
       " 'rBBgPj8dTVCn5bkS39u1ho2iF7bmy3sD38',\n",
       " 'rD4h31zGgaUDEpEcXAue1pUrWmXzFffbr2',\n",
       " 'rE2QyFjkZgXtAqaS2Q1m64iGSBUPme4FHE',\n",
       " 'rEXsBBSG99E4tn2KZSFTBCvCJDBgtD2fEi',\n",
       " 'rGmXrJ8JChPUnSULPUabyhjAv7Dg9nwMjK',\n",
       " 'rGqyFQHnCgMgkA54WFVpfuYhn4R1Wvz3c5',\n",
       " 'rHBRtWsfSBLiP3i1SMb3GougMzSUHiv3mQ',\n",
       " 'rJ2yTUVCtPuqEia6mHV9zvadiZNyDZEuLH',\n",
       " 'rJRy9RbsMyg3xxrPVb5o6PcnogB7T6TUyd',\n",
       " 'rJf1ag6Yoe9C1hra2pDtiRbM1T4YnTpVf2',\n",
       " 'rJf8RNt2evTsXmUMgbKHyJabvW9h1hR6zT',\n",
       " 'rJh68dLme52JYg6sVQfVSV4EnKaY4bn5sa',\n",
       " 'rKAMUeiMFsCb4iVoXgYWqRr9LuMdUPaoiM',\n",
       " 'rKLgoNhcMgcSEuBHii6NZoiRf5QY4DCdyE',\n",
       " 'rKUVyRyAkBdt1kHoXq76bfgscoReYQCBjN',\n",
       " 'rKbEkQQZjUFGTX3NAjJdt1CqUXiz8VvThY',\n",
       " 'rLfaWYNNV4fj33wEK64gVpvtjAzxoU4Gp3',\n",
       " 'rLoTtscqz7LGPaWnxPexuyLW2Pq7Mo2npM',\n",
       " 'rLyyrjU77dYd3pnR3aKhyzghJZbE2DBWvt',\n",
       " 'rMGGQnigf5ijUdJEBeYcwBjE6A6SMnqiJr',\n",
       " 'rMKyHdtwQaEnaAx9ZNYNoH1zFp4UAXPqDs',\n",
       " 'rMpoDLfmddCN2zsDWFrsr8R6dq2D3Wkrut',\n",
       " 'rMzaXqwz2rzWXA9GxjV2rnUPkMvz7jSn3F',\n",
       " 'rNFSuZ7FrLuxwjvyxj5NtKTZapMCZGiY1Q',\n",
       " 'rNYFPUFpCDkoyFbvzERSUpdbp8mJ5yTety',\n",
       " 'rPxGF2iUXXqfJpPZaLZ21LSKEHb2hzrXnM',\n",
       " 'rPzuVjgjKvaVHxUzDy5wU5UUcUvSDrpbme',\n",
       " 'rQsnFx1u7rJ8gpHsW8KEefyRWM6ytiD5x7',\n",
       " 'rZjL3A9z3rHSkasnKAB5qzrTo5nqNcfrm',\n",
       " 'ra4AuCDNXaqH8ud7b18767QZfVXBHJs9DY',\n",
       " 'raDkt7M7CRdJZ3gJfuwX5mHaK1SPRTfcAP',\n",
       " 'raN3hDf7DS2y55n4bQHc9X62gh755KL2qS',\n",
       " 'raVdjnJ1o43ZJVCgE6T1qaKVhcuHx8Gy3o',\n",
       " 'rf25YoUmmAbrTAKCtVv5kJqUZ6TXfDgyRu',\n",
       " 'rfHNWHuziSPVrTLFAXYxEscN8oeFzXFuC',\n",
       " 'rfRyprWBgMd9ncLh2bMpTx5x59NuyvooiM',\n",
       " 'rfTJzdE1sLFJSZXd1QvLRMZHSE3QyY3aay',\n",
       " 'rfYQMBKUtDae3jys5oRBi12rGuBActpSYb',\n",
       " 'rhQGdp5pn3aHsiq4oDRrizttr3fBYcQrNJ',\n",
       " 'rhZajogt3Ngk5z2FsAQBWBJARstUzNTVQC',\n",
       " 'rhf5kNBmuJDFtRrc1RHfrNA1bcRY6Vd4Um',\n",
       " 'rn4xosfeBxFY11DJd2Cd9vj1dSjTbxaLkN',\n",
       " 'rn87mr4PHGuFU85yFGkBem6FHhKtMJhEs8',\n",
       " 'rnQQYFBvp2otUrLWGgfFHQ7EyXKb2CGKUq',\n",
       " 'rnvQREqTjJT4JXGq7XWcvxEER337HfqfCr',\n",
       " 'rpGqbFBbmnCgYMKzxTfZs4CWcRAoL7LCsB',\n",
       " 'rsVJk4LWsEL94hacL8jm6SKod6VVEtaH6V',\n",
       " 'rsmEpZPr7ZWiFgx4c2GmrMPggvY7biMf6Z',\n",
       " 'rw4L2LEDRdyRf5yKUk472hSFKpJ2EQchkq',\n",
       " 'rwJt7EaVWt7EzsPqWeHmLgXANSaoLwejA1',\n",
       " 'rwxFXVrYtQVzqudHKKzk2xvUtjDUDfimXb'}"
      ]
     },
     "execution_count": 195,
     "metadata": {},
     "output_type": "execute_result"
    }
   ],
   "source": [
    "print(\"Most pop. time is {}\".format(peak_time))\n",
    "print(\"Max. #users at a given sec: {}\".format(maxm))\n",
    "print(\"Senders at this time:\")\n",
    "data_by_time[peak_time]"
   ]
  },
  {
   "cell_type": "markdown",
   "metadata": {},
   "source": [
    "# Ah C Tmn D"
   ]
  },
  {
   "cell_type": "code",
   "execution_count": 45,
   "metadata": {
    "collapsed": false
   },
   "outputs": [
    {
     "name": "stdout",
     "output_type": "stream",
     "text": [
      "ripple_week1.csv\n"
     ]
    },
    {
     "name": "stderr",
     "output_type": "stream",
     "text": [
      "213077it [00:02, 88549.58it/s]\n"
     ]
    },
    {
     "name": "stdout",
     "output_type": "stream",
     "text": [
      "Number of senders: 20447 (check against stats from get_unicity)\n",
      "Number of different datapoints: 203142 (check against stats from get_unicity)\n"
     ]
    }
   ],
   "source": [
    "data_by_sender = load_data_by_sender(files,'h',True,'m',True)\n",
    "\n",
    "data_by_point = by_point(data_by_sender)\n",
    "\n",
    "#Number of senders\n",
    "print(\"Number of senders: {} (check against stats from get_unicity)\".format(len(data_by_sender)))\n",
    "print(\"Number of different datapoints: {} (check against stats from get_unicity)\".format(len(data_by_point)))"
   ]
  },
  {
   "cell_type": "code",
   "execution_count": 46,
   "metadata": {
    "collapsed": false
   },
   "outputs": [
    {
     "name": "stdout",
     "output_type": "stream",
     "text": [
      "User number:  20447\n",
      "Point number:  203142\n",
      "Users included: 10000\n"
     ]
    },
    {
     "data": {
      "text/plain": [
       "0.9856"
      ]
     },
     "execution_count": 46,
     "metadata": {},
     "output_type": "execute_result"
    }
   ],
   "source": [
    "get_unicity(data_by_sender,1,1e4)"
   ]
  },
  {
   "cell_type": "markdown",
   "metadata": {},
   "source": [
    "# Aa C Thr D"
   ]
  },
  {
   "cell_type": "markdown",
   "metadata": {},
   "source": [
    "Paper: Around 75%"
   ]
  },
  {
   "cell_type": "code",
   "execution_count": 61,
   "metadata": {
    "collapsed": false
   },
   "outputs": [
    {
     "name": "stdout",
     "output_type": "stream",
     "text": [
      "ripple_week1.csv\n"
     ]
    },
    {
     "name": "stderr",
     "output_type": "stream",
     "text": [
      "213077it [00:02, 74535.17it/s]\n"
     ]
    },
    {
     "name": "stdout",
     "output_type": "stream",
     "text": [
      "Number of senders: 20447 (check against stats from get_unicity)\n",
      "Number of different datapoints: 173285 (check against stats from get_unicity)\n"
     ]
    }
   ],
   "source": [
    "data_by_sender = load_data_by_sender(files,'a',True,'h',True)\n",
    "\n",
    "data_by_point = by_point(data_by_sender)\n",
    "\n",
    "#Number of senders\n",
    "print(\"Number of senders: {} (check against stats from get_unicity)\".format(len(data_by_sender)))\n",
    "print(\"Number of different datapoints: {} (check against stats from get_unicity)\".format(len(data_by_point)))"
   ]
  },
  {
   "cell_type": "code",
   "execution_count": 96,
   "metadata": {
    "collapsed": false
   },
   "outputs": [
    {
     "data": {
      "text/plain": [
       "[('rUoCf9vDrSXPrBsZ6qTZjgSkHG6N1DiyB',\n",
       "  {(500000000.0, 'XRP', '2017-05-24T15', 'rPVMhWBsfF9iMXYj3aAzJVkPDTFNSyWdKy'),\n",
       "   (1000000000.0,\n",
       "    'XRP',\n",
       "    '2017-05-23T03',\n",
       "    'rhoPoQ2k4VsYh9DvV7XXq5yDCy7vhsaDqT'),\n",
       "   (1000000000.0,\n",
       "    'XRP',\n",
       "    '2017-05-24T15',\n",
       "    'rPVMhWBsfF9iMXYj3aAzJVkPDTFNSyWdKy'),\n",
       "   (3000000000.0,\n",
       "    'XRP',\n",
       "    '2017-05-24T18',\n",
       "    'rPVMhWBsfF9iMXYj3aAzJVkPDTFNSyWdKy'),\n",
       "   (4000000000.0,\n",
       "    'XRP',\n",
       "    '2017-05-24T17',\n",
       "    'rPVMhWBsfF9iMXYj3aAzJVkPDTFNSyWdKy')}),\n",
       " ('rGc2g3XJRU6xVD18epx677C2Ra65FQfBp2',\n",
       "  {(0.09, 'BTC', '2017-05-24T12', 'rchGBxcD1A1C2tdxF6papQYZ8kjRKMYcL')})]"
      ]
     },
     "execution_count": 96,
     "metadata": {},
     "output_type": "execute_result"
    }
   ],
   "source": [
    "dict_sample(data_by_sender)"
   ]
  },
  {
   "cell_type": "code",
   "execution_count": 62,
   "metadata": {
    "collapsed": false
   },
   "outputs": [
    {
     "name": "stdout",
     "output_type": "stream",
     "text": [
      "User number:  20447\n",
      "Point number:  173285\n",
      "Users included: 10000\n"
     ]
    },
    {
     "data": {
      "text/plain": [
       "0.9039"
      ]
     },
     "execution_count": 62,
     "metadata": {},
     "output_type": "execute_result"
    }
   ],
   "source": [
    "get_unicity(data_by_sender,1,1e4)"
   ]
  },
  {
   "cell_type": "markdown",
   "metadata": {},
   "source": [
    "> Significantly different"
   ]
  },
  {
   "cell_type": "markdown",
   "metadata": {},
   "source": [
    "# Al C Td D"
   ]
  },
  {
   "cell_type": "markdown",
   "metadata": {},
   "source": [
    "Paper: ~40%"
   ]
  },
  {
   "cell_type": "code",
   "execution_count": 140,
   "metadata": {
    "collapsed": false
   },
   "outputs": [
    {
     "name": "stdout",
     "output_type": "stream",
     "text": [
      "ripple_week1.csv\n"
     ]
    },
    {
     "name": "stderr",
     "output_type": "stream",
     "text": [
      "213077it [00:02, 91881.43it/s]\n"
     ]
    },
    {
     "name": "stdout",
     "output_type": "stream",
     "text": [
      "Number of senders: 20447 (check against stats from get_unicity)\n",
      "Number of different datapoints: 133030 (check against stats from get_unicity)\n"
     ]
    }
   ],
   "source": [
    "data_by_sender = load_data_by_sender(files,'l',True,'d',True)\n",
    "\n",
    "data_by_point = by_point(data_by_sender)\n",
    "\n",
    "#Number of senders\n",
    "print(\"Number of senders: {} (check against stats from get_unicity)\".format(len(data_by_sender)))\n",
    "print(\"Number of different datapoints: {} (check against stats from get_unicity)\".format(len(data_by_point)))"
   ]
  },
  {
   "cell_type": "code",
   "execution_count": null,
   "metadata": {
    "collapsed": true
   },
   "outputs": [],
   "source": []
  },
  {
   "cell_type": "code",
   "execution_count": 100,
   "metadata": {
    "collapsed": false
   },
   "outputs": [
    {
     "name": "stdout",
     "output_type": "stream",
     "text": [
      "User number:  20447\n",
      "Point number:  133030\n",
      "Users included: 10000\n"
     ]
    },
    {
     "data": {
      "text/plain": [
       "0.6856"
      ]
     },
     "execution_count": 100,
     "metadata": {},
     "output_type": "execute_result"
    }
   ],
   "source": [
    "get_unicity(data_by_sender,1,1e4)"
   ]
  },
  {
   "cell_type": "markdown",
   "metadata": {},
   "source": [
    "# Am C - D"
   ]
  },
  {
   "cell_type": "markdown",
   "metadata": {},
   "source": [
    "Paper: 48.84%\n",
    "\n",
    "> Note:Removing the time completely"
   ]
  },
  {
   "cell_type": "code",
   "execution_count": 102,
   "metadata": {
    "collapsed": false
   },
   "outputs": [
    {
     "name": "stdout",
     "output_type": "stream",
     "text": [
      "ripple_week1.csv\n"
     ]
    },
    {
     "name": "stderr",
     "output_type": "stream",
     "text": [
      "213077it [00:02, 105216.53it/s]\n"
     ]
    },
    {
     "name": "stdout",
     "output_type": "stream",
     "text": [
      "Number of senders: 20447 (check against stats from get_unicity)\n",
      "Number of different datapoints: 131149 (check against stats from get_unicity)\n"
     ]
    }
   ],
   "source": [
    "data_by_sender = load_data_by_sender(files,'m',True,False,True)\n",
    "\n",
    "data_by_point = by_point(data_by_sender)\n",
    "\n",
    "#Number of senders\n",
    "print(\"Number of senders: {} (check against stats from get_unicity)\".format(len(data_by_sender)))\n",
    "print(\"Number of different datapoints: {} (check against stats from get_unicity)\".format(len(data_by_point)))"
   ]
  },
  {
   "cell_type": "code",
   "execution_count": 103,
   "metadata": {
    "collapsed": false
   },
   "outputs": [
    {
     "name": "stdout",
     "output_type": "stream",
     "text": [
      "User number:  20447\n",
      "Point number:  131149\n",
      "Users included: 10000\n"
     ]
    },
    {
     "data": {
      "text/plain": [
       "0.6652"
      ]
     },
     "execution_count": 103,
     "metadata": {},
     "output_type": "execute_result"
    }
   ],
   "source": [
    "get_unicity(data_by_sender,1,1e4)"
   ]
  },
  {
   "cell_type": "code",
   "execution_count": 105,
   "metadata": {
    "collapsed": false
   },
   "outputs": [
    {
     "data": {
      "text/plain": [
       "[('rhSFrJqsHKwbQdQxVgTmBnPFmA2c18S49x',\n",
       "  {(25000000.0, 'XRP', None, 'r9fynUSduqs6ri6TK7rcnpFbDpNktw7eAC'),\n",
       "   (30000000.0, 'XRP', None, 'r9fynUSduqs6ri6TK7rcnpFbDpNktw7eAC'),\n",
       "   (33000000.0, 'XRP', None, 'r9fynUSduqs6ri6TK7rcnpFbDpNktw7eAC'),\n",
       "   (1600000000.0, 'XRP', None, 'r9fynUSduqs6ri6TK7rcnpFbDpNktw7eAC'),\n",
       "   (1633000000.0, 'XRP', None, 'r9fynUSduqs6ri6TK7rcnpFbDpNktw7eAC')}),\n",
       " ('rJKpUXaaVJXZUJ4riBjLjiwwypBXeBHsPz',\n",
       "  {(100000000.0, 'XRP', None, 'r3gYirhEEcQ4iEyyJu4gYk6XXDr5UKzs8z'),\n",
       "   (100000000.0, 'XRP', None, 'r4EFzAfhF2f2oU6j1jo9bKz5FdNrJzANZq'),\n",
       "   (100000000.0, 'XRP', None, 'r4kMVxyBtZes85UrSu6wU9VWeH1PxZFST9'),\n",
       "   (100000000.0, 'XRP', None, 'r4ogpiqNah8NmDVAdcWEdhuwsNUYoLdHLC'),\n",
       "   (100000000.0, 'XRP', None, 'r4uPEFdNktoquNHh7fCXgKmpg6GmvdLauj'),\n",
       "   (100000000.0, 'XRP', None, 'r8ifvQhmguKJBjLzLTndLPCuA4hKzaAvQ'),\n",
       "   (100000000.0, 'XRP', None, 'rH8zuA7XhmfmnYJs6t3TZLK3n1ZtxqGRJK'),\n",
       "   (100000000.0, 'XRP', None, 'rJZRXuoEuKCUhEk2Gce3KvJgufBT2kokQg'),\n",
       "   (100000000.0, 'XRP', None, 'rLDss3sLh8ELajte1jjsU9n5dvF6ASdeiJ'),\n",
       "   (100000000.0, 'XRP', None, 'rLHvH95bWKYz2VEycSmjR1TonSDGa4L82V'),\n",
       "   (100000000.0, 'XRP', None, 'rLX6cASR5hUcb3TLxf51HHJDn5vN3teie1'),\n",
       "   (100000000.0, 'XRP', None, 'rM3tc8sHrq7RZLRrYfoVUjuDgo2tHQKuyZ'),\n",
       "   (100000000.0, 'XRP', None, 'rMrbELgqVhDoW375Vs4psvCKV7LamMoeNS'),\n",
       "   (100000000.0, 'XRP', None, 'rPExRcGAq8civcwhoi8PxHYbKkdtwMpSqq'),\n",
       "   (100000000.0, 'XRP', None, 'rPFhsdiLKc7FmdfX4hRFMYiXHFYGudbcwM'),\n",
       "   (100000000.0, 'XRP', None, 'rPHEhYXuvZusrCW1wEqfwWZTFVQigestpq'),\n",
       "   (100000000.0, 'XRP', None, 'rPHmKY6cRWkxPrNGi4CTKsrqFowsLk91Aq'),\n",
       "   (100000000.0, 'XRP', None, 'rPUWejZ7DYnebSX65D1f7aKXbKysoVWixU'),\n",
       "   (100000000.0, 'XRP', None, 'rPmUSGCZucedHQv7iAzTZJvCQYGhrtSUaA'),\n",
       "   (100000000.0, 'XRP', None, 'rPxGLs9Zn2ukdFTiXjnZjgjTjLScits5dX'),\n",
       "   (100000000.0, 'XRP', None, 'rUjJbBDpvjdDaUuC6YaiBdaa19MR9pqhMT'),\n",
       "   (100000000.0, 'XRP', None, 'rUshZPfEYN5KgsjubCtwq3bww5BYQfQ5hd'),\n",
       "   (100000000.0, 'XRP', None, 'raMnua8aWTgYBVuxaNft2BfFXhcR24HmPV'),\n",
       "   (100000000.0, 'XRP', None, 'rh8eCmmkk4RjbNC5tCf5yaANcpDkDTcBHy'),\n",
       "   (100000000.0, 'XRP', None, 'rhsoqwZ7ZT6F1vvjEUSwowpb6XsCNshsxh'),\n",
       "   (100000000.0, 'XRP', None, 'rph4xqML6VhgEbDonA2ZbitAjMuXqTQWgs'),\n",
       "   (100000000.0, 'XRP', None, 'rwaFtGThnHtdvpEz9sfznWTmoG2YRYXkc5'),\n",
       "   (100000000.0, 'XRP', None, 'rwnkuUKR3MYy5NHkbo4BNjRn6F9ZRXRdA5'),\n",
       "   (100000000.0, 'XRP', None, 'rwoHYdPWycYVJjRwy4K9EJ5tZG2Zgr8ztu'),\n",
       "   (200000000.0, 'XRP', None, 'r37cpFPSJRwXvSXz1b1kNeD99rMcMGo2oQ'),\n",
       "   (200000000.0, 'XRP', None, 'r43upctdAswGiZhE1Aso9vyCGqexRATHkP'),\n",
       "   (200000000.0, 'XRP', None, 'r4EFzAfhF2f2oU6j1jo9bKz5FdNrJzANZq'),\n",
       "   (200000000.0, 'XRP', None, 'r4kMVxyBtZes85UrSu6wU9VWeH1PxZFST9'),\n",
       "   (200000000.0, 'XRP', None, 'r4ogpiqNah8NmDVAdcWEdhuwsNUYoLdHLC'),\n",
       "   (200000000.0, 'XRP', None, 'r8ifvQhmguKJBjLzLTndLPCuA4hKzaAvQ'),\n",
       "   (200000000.0, 'XRP', None, 'rBHBZ9YEr4rFjyvpdou3QPKF6vNNYWKBS2'),\n",
       "   (200000000.0, 'XRP', None, 'rH8zuA7XhmfmnYJs6t3TZLK3n1ZtxqGRJK'),\n",
       "   (200000000.0, 'XRP', None, 'rHKRnz8xWknfB5HzBosAX2xwTC6k5hdn6k'),\n",
       "   (200000000.0, 'XRP', None, 'rHb6azGe9Lo666qywWVdJ1kzssfvkYbgnf'),\n",
       "   (200000000.0, 'XRP', None, 'rJBZQsv6Rjea8WFfwQCeqRu2WYzFQfZnKF'),\n",
       "   (200000000.0, 'XRP', None, 'rJXaSJzvo3U3yKrdgAqBjLQD6oNFX5csEy'),\n",
       "   (200000000.0, 'XRP', None, 'rJZRXuoEuKCUhEk2Gce3KvJgufBT2kokQg'),\n",
       "   (200000000.0, 'XRP', None, 'rLDss3sLh8ELajte1jjsU9n5dvF6ASdeiJ'),\n",
       "   (200000000.0, 'XRP', None, 'rM3tc8sHrq7RZLRrYfoVUjuDgo2tHQKuyZ'),\n",
       "   (200000000.0, 'XRP', None, 'rMhPVE4SnkcbbpgZwxqZAiv5sRTYh3Lfrf'),\n",
       "   (200000000.0, 'XRP', None, 'rNkJ4veDUHpHYMRHuXc6XsfMHMgJ443PPM'),\n",
       "   (200000000.0, 'XRP', None, 'rPFhsdiLKc7FmdfX4hRFMYiXHFYGudbcwM'),\n",
       "   (200000000.0, 'XRP', None, 'rPHEhYXuvZusrCW1wEqfwWZTFVQigestpq'),\n",
       "   (200000000.0, 'XRP', None, 'rPHmKY6cRWkxPrNGi4CTKsrqFowsLk91Aq'),\n",
       "   (200000000.0, 'XRP', None, 'rPTPG4mmcHYAS7YpLqpfYMe6GKbf1GU57G'),\n",
       "   (200000000.0, 'XRP', None, 'rPxGLs9Zn2ukdFTiXjnZjgjTjLScits5dX'),\n",
       "   (200000000.0, 'XRP', None, 'rU4xi4yQiGGUAX3RUVCgg1rr2MneYTyf6w'),\n",
       "   (200000000.0, 'XRP', None, 'rUQh7vX3DD3Y3bhWRkdNfhJCkYFpaQUcKt'),\n",
       "   (200000000.0, 'XRP', None, 'rUg9ubj9J5fW9yLAhdcqu6fENo4HzTSKhh'),\n",
       "   (200000000.0, 'XRP', None, 'rUjJbBDpvjdDaUuC6YaiBdaa19MR9pqhMT'),\n",
       "   (200000000.0, 'XRP', None, 'rfPr2vQ8NCNxvQkqrBa6nL11hyPw7ReRMZ'),\n",
       "   (200000000.0, 'XRP', None, 'rh4P5dUS5RgVhAaWSAyKM1zGraKH9NgUVU'),\n",
       "   (200000000.0, 'XRP', None, 'rhPQwaCHxDhuNYKd6rPrT5sCZ21AgX4tg3'),\n",
       "   (200000000.0, 'XRP', None, 'rhsoqwZ7ZT6F1vvjEUSwowpb6XsCNshsxh'),\n",
       "   (200000000.0, 'XRP', None, 'rnkjaGf5A4ziAcxwbFq95iHXggugZGp1by'),\n",
       "   (200000000.0, 'XRP', None, 'rwoHYdPWycYVJjRwy4K9EJ5tZG2Zgr8ztu'),\n",
       "   (300000000.0, 'XRP', None, 'r2nt4zXDP6Be5FNrLsiuuTEBETbGR9RFw'),\n",
       "   (300000000.0, 'XRP', None, 'r4ogpiqNah8NmDVAdcWEdhuwsNUYoLdHLC'),\n",
       "   (300000000.0, 'XRP', None, 'r8ifvQhmguKJBjLzLTndLPCuA4hKzaAvQ'),\n",
       "   (300000000.0, 'XRP', None, 'rBHBZ9YEr4rFjyvpdou3QPKF6vNNYWKBS2'),\n",
       "   (300000000.0, 'XRP', None, 'rBNVR54HRP3N5gYRdiZWH8STg9FpGKdhBH'),\n",
       "   (300000000.0, 'XRP', None, 'rE1EFGgMYsKUKNkJDzthW8V9smdosFyMCX'),\n",
       "   (300000000.0, 'XRP', None, 'rEpzqJUGUGPAeqwe2DxQ7DE31k8ZgUC3Wp'),\n",
       "   (300000000.0, 'XRP', None, 'rH8zuA7XhmfmnYJs6t3TZLK3n1ZtxqGRJK'),\n",
       "   (300000000.0, 'XRP', None, 'rLDss3sLh8ELajte1jjsU9n5dvF6ASdeiJ'),\n",
       "   (300000000.0, 'XRP', None, 'rM3tc8sHrq7RZLRrYfoVUjuDgo2tHQKuyZ'),\n",
       "   (300000000.0, 'XRP', None, 'rNEkNgUxwVGrZX1iHwLk2dbJVq4nqE6Q1p'),\n",
       "   (300000000.0, 'XRP', None, 'rP4MJXYpNbif7eFbfmaeFnkqUjZAjwbN3H'),\n",
       "   (300000000.0, 'XRP', None, 'rPExRcGAq8civcwhoi8PxHYbKkdtwMpSqq'),\n",
       "   (300000000.0, 'XRP', None, 'rPFhsdiLKc7FmdfX4hRFMYiXHFYGudbcwM'),\n",
       "   (300000000.0, 'XRP', None, 'rPHmKY6cRWkxPrNGi4CTKsrqFowsLk91Aq'),\n",
       "   (300000000.0, 'XRP', None, 'rUjJbBDpvjdDaUuC6YaiBdaa19MR9pqhMT'),\n",
       "   (300000000.0, 'XRP', None, 'rffYPCFiArzej5ZPsrwPPTbvmB7WJR1VC'),\n",
       "   (300000000.0, 'XRP', None, 'rh4P5dUS5RgVhAaWSAyKM1zGraKH9NgUVU'),\n",
       "   (300000000.0, 'XRP', None, 'rh8eCmmkk4RjbNC5tCf5yaANcpDkDTcBHy'),\n",
       "   (300000000.0, 'XRP', None, 'rph4xqML6VhgEbDonA2ZbitAjMuXqTQWgs'),\n",
       "   (300000000.0, 'XRP', None, 'rw7FLKiVAyspjhgc6VTdVUdfc4AVaRsWuX'),\n",
       "   (300000000.0, 'XRP', None, 'rwoHYdPWycYVJjRwy4K9EJ5tZG2Zgr8ztu'),\n",
       "   (400000000.0, 'XRP', None, 'r4ogpiqNah8NmDVAdcWEdhuwsNUYoLdHLC'),\n",
       "   (400000000.0, 'XRP', None, 'r8ifvQhmguKJBjLzLTndLPCuA4hKzaAvQ'),\n",
       "   (400000000.0, 'XRP', None, 'rGtYSYzeAWG6JWuqQc3sTo6M2NUQG5EFS9'),\n",
       "   (400000000.0, 'XRP', None, 'rLDss3sLh8ELajte1jjsU9n5dvF6ASdeiJ'),\n",
       "   (400000000.0, 'XRP', None, 'rLHvH95bWKYz2VEycSmjR1TonSDGa4L82V'),\n",
       "   (400000000.0, 'XRP', None, 'rM3tc8sHrq7RZLRrYfoVUjuDgo2tHQKuyZ'),\n",
       "   (400000000.0, 'XRP', None, 'rPExRcGAq8civcwhoi8PxHYbKkdtwMpSqq'),\n",
       "   (400000000.0, 'XRP', None, 'rPmUSGCZucedHQv7iAzTZJvCQYGhrtSUaA'),\n",
       "   (400000000.0, 'XRP', None, 'rPrUNZHTS3HpPpgFz9JT61DtKMcvwJYRh9'),\n",
       "   (400000000.0, 'XRP', None, 'rUjJbBDpvjdDaUuC6YaiBdaa19MR9pqhMT'),\n",
       "   (400000000.0, 'XRP', None, 'raMnua8aWTgYBVuxaNft2BfFXhcR24HmPV'),\n",
       "   (400000000.0, 'XRP', None, 'rf82GpJXEkHo1BPT7EFg61CCMRmD3w86yg'),\n",
       "   (400000000.0, 'XRP', None, 'rhe5RriNFGMc3VJwDrufeqhiTSxGunFhER'),\n",
       "   (400000000.0, 'XRP', None, 'rn8XumVnhPwiRpGQw1LvZQr8sJUKhiB63v'),\n",
       "   (400000000.0, 'XRP', None, 'rnkjaGf5A4ziAcxwbFq95iHXggugZGp1by'),\n",
       "   (400000000.0, 'XRP', None, 'rsEXHVeJYRJGrNBZndvjs8183fc7aHG6ie'),\n",
       "   (400000000.0, 'XRP', None, 'rw7FLKiVAyspjhgc6VTdVUdfc4AVaRsWuX'),\n",
       "   (400000000.0, 'XRP', None, 'rwoHYdPWycYVJjRwy4K9EJ5tZG2Zgr8ztu'),\n",
       "   (400000000.0, 'XRP', None, 'rwt8r9nJeCG1xxWbfPT1yem4y2AHgkBPBj'),\n",
       "   (500000000.0, 'XRP', None, 'r4kMVxyBtZes85UrSu6wU9VWeH1PxZFST9'),\n",
       "   (500000000.0, 'XRP', None, 'r4ogpiqNah8NmDVAdcWEdhuwsNUYoLdHLC'),\n",
       "   (500000000.0, 'XRP', None, 'r8ifvQhmguKJBjLzLTndLPCuA4hKzaAvQ'),\n",
       "   (500000000.0, 'XRP', None, 'rGtYSYzeAWG6JWuqQc3sTo6M2NUQG5EFS9'),\n",
       "   (500000000.0, 'XRP', None, 'rH8zuA7XhmfmnYJs6t3TZLK3n1ZtxqGRJK'),\n",
       "   (500000000.0, 'XRP', None, 'rLiFkpSGTekcQTk7K59Mk6m6RCTyPxt7xk'),\n",
       "   (500000000.0, 'XRP', None, 'rP4MJXYpNbif7eFbfmaeFnkqUjZAjwbN3H'),\n",
       "   (500000000.0, 'XRP', None, 'rPExRcGAq8civcwhoi8PxHYbKkdtwMpSqq'),\n",
       "   (500000000.0, 'XRP', None, 'rPHmKY6cRWkxPrNGi4CTKsrqFowsLk91Aq'),\n",
       "   (500000000.0, 'XRP', None, 'rUMxmv2y4ssjtwB9eQHSqFdii4EkUjTgXE'),\n",
       "   (500000000.0, 'XRP', None, 'rUjJbBDpvjdDaUuC6YaiBdaa19MR9pqhMT'),\n",
       "   (500000000.0, 'XRP', None, 'rwoHYdPWycYVJjRwy4K9EJ5tZG2Zgr8ztu'),\n",
       "   (600000000.0, 'XRP', None, 'rGTFwQbp8GGKW1yLpeMJrgdK45cp562vTx'),\n",
       "   (600000000.0, 'XRP', None, 'rH8zuA7XhmfmnYJs6t3TZLK3n1ZtxqGRJK'),\n",
       "   (600000000.0, 'XRP', None, 'rJ6WJoNxj83QMM9HdK929q4csYuN72yDpj'),\n",
       "   (600000000.0, 'XRP', None, 'rLsL4ruZvh4CVmbJKckZTJ9kBZptqsZYKX'),\n",
       "   (600000000.0, 'XRP', None, 'rPmUSGCZucedHQv7iAzTZJvCQYGhrtSUaA'),\n",
       "   (600000000.0, 'XRP', None, 'rUjJbBDpvjdDaUuC6YaiBdaa19MR9pqhMT'),\n",
       "   (600000000.0, 'XRP', None, 'rfKTnx7UE2Ab596Gan6DFrxeKtijQxr2nZ'),\n",
       "   (600000000.0, 'XRP', None, 'rsK2S7X572mfiLkrTfdrcbian32DZWzLCh'),\n",
       "   (700000000.0, 'XRP', None, 'r4ogpiqNah8NmDVAdcWEdhuwsNUYoLdHLC'),\n",
       "   (700000000.0, 'XRP', None, 'r8ifvQhmguKJBjLzLTndLPCuA4hKzaAvQ'),\n",
       "   (700000000.0, 'XRP', None, 'rH8zuA7XhmfmnYJs6t3TZLK3n1ZtxqGRJK'),\n",
       "   (700000000.0, 'XRP', None, 'rHKRnz8xWknfB5HzBosAX2xwTC6k5hdn6k'),\n",
       "   (700000000.0, 'XRP', None, 'rJBZQsv6Rjea8WFfwQCeqRu2WYzFQfZnKF'),\n",
       "   (700000000.0, 'XRP', None, 'rLDss3sLh8ELajte1jjsU9n5dvF6ASdeiJ'),\n",
       "   (700000000.0, 'XRP', None, 'rPFhsdiLKc7FmdfX4hRFMYiXHFYGudbcwM'),\n",
       "   (700000000.0, 'XRP', None, 'rPHmKY6cRWkxPrNGi4CTKsrqFowsLk91Aq'),\n",
       "   (700000000.0, 'XRP', None, 'rUjJbBDpvjdDaUuC6YaiBdaa19MR9pqhMT'),\n",
       "   (700000000.0, 'XRP', None, 'rnkjaGf5A4ziAcxwbFq95iHXggugZGp1by'),\n",
       "   (700000000.0, 'XRP', None, 'rwoHYdPWycYVJjRwy4K9EJ5tZG2Zgr8ztu'),\n",
       "   (800000000.0, 'XRP', None, 'r4ogpiqNah8NmDVAdcWEdhuwsNUYoLdHLC'),\n",
       "   (800000000.0, 'XRP', None, 'r4t5RWEsDmLEbxNQZGn2PkLqqoTJehrAfd'),\n",
       "   (800000000.0, 'XRP', None, 'rHb6azGe9Lo666qywWVdJ1kzssfvkYbgnf'),\n",
       "   (800000000.0, 'XRP', None, 'rJ6WJoNxj83QMM9HdK929q4csYuN72yDpj'),\n",
       "   (800000000.0, 'XRP', None, 'rJBZQsv6Rjea8WFfwQCeqRu2WYzFQfZnKF'),\n",
       "   (800000000.0, 'XRP', None, 'rLiFkpSGTekcQTk7K59Mk6m6RCTyPxt7xk'),\n",
       "   (800000000.0, 'XRP', None, 'rUjJbBDpvjdDaUuC6YaiBdaa19MR9pqhMT'),\n",
       "   (800000000.0, 'XRP', None, 'rhJFWiyinQaY5kSk3jGtHnaQrUcsKTgcEL'),\n",
       "   (800000000.0, 'XRP', None, 'rwoHYdPWycYVJjRwy4K9EJ5tZG2Zgr8ztu'),\n",
       "   (800000000.0, 'XRP', None, 'rwt8r9nJeCG1xxWbfPT1yem4y2AHgkBPBj'),\n",
       "   (900000000.0, 'XRP', None, 'r43upctdAswGiZhE1Aso9vyCGqexRATHkP'),\n",
       "   (900000000.0, 'XRP', None, 'rEqiNUYHEqmevYVQJoS16SgesbkcpCP5Wr'),\n",
       "   (900000000.0, 'XRP', None, 'rLHvH95bWKYz2VEycSmjR1TonSDGa4L82V'),\n",
       "   (900000000.0, 'XRP', None, 'rMq8WMm8LUuRDASqXBFNV4vvKXU9JRW6zb'),\n",
       "   (900000000.0, 'XRP', None, 'rNEkNgUxwVGrZX1iHwLk2dbJVq4nqE6Q1p'),\n",
       "   (900000000.0, 'XRP', None, 'rNkJ4veDUHpHYMRHuXc6XsfMHMgJ443PPM'),\n",
       "   (900000000.0, 'XRP', None, 'rPFhsdiLKc7FmdfX4hRFMYiXHFYGudbcwM'),\n",
       "   (900000000.0, 'XRP', None, 'rPmUSGCZucedHQv7iAzTZJvCQYGhrtSUaA'),\n",
       "   (900000000.0, 'XRP', None, 'rUjJbBDpvjdDaUuC6YaiBdaa19MR9pqhMT'),\n",
       "   (900000000.0, 'XRP', None, 'raMnua8aWTgYBVuxaNft2BfFXhcR24HmPV'),\n",
       "   (900000000.0, 'XRP', None, 'rsQmBUZeDs3WTTzRg4U2X3djQzELyDfjQo'),\n",
       "   (1000000000.0, 'XRP', None, 'r43upctdAswGiZhE1Aso9vyCGqexRATHkP'),\n",
       "   (1000000000.0, 'XRP', None, 'r8ifvQhmguKJBjLzLTndLPCuA4hKzaAvQ'),\n",
       "   (1000000000.0, 'XRP', None, 'rH8zuA7XhmfmnYJs6t3TZLK3n1ZtxqGRJK'),\n",
       "   (1000000000.0, 'XRP', None, 'rJ6WJoNxj83QMM9HdK929q4csYuN72yDpj'),\n",
       "   (1000000000.0, 'XRP', None, 'rJZRXuoEuKCUhEk2Gce3KvJgufBT2kokQg'),\n",
       "   (1000000000.0, 'XRP', None, 'rNkJ4veDUHpHYMRHuXc6XsfMHMgJ443PPM'),\n",
       "   (1000000000.0, 'XRP', None, 'rPTPG4mmcHYAS7YpLqpfYMe6GKbf1GU57G'),\n",
       "   (1000000000.0, 'XRP', None, 'rPuUFPLnSQ6nTT1FWgVPRd1vdzvHqc1cyP'),\n",
       "   (1000000000.0, 'XRP', None, 'rUjJbBDpvjdDaUuC6YaiBdaa19MR9pqhMT'),\n",
       "   (1000000000.0, 'XRP', None, 'rUpHSmhkLmjR8aSNYB2eWAdgcAppQhezEu'),\n",
       "   (1000000000.0, 'XRP', None, 'rhe5RriNFGMc3VJwDrufeqhiTSxGunFhER'),\n",
       "   (1000000000.0, 'XRP', None, 'rsK2S7X572mfiLkrTfdrcbian32DZWzLCh'),\n",
       "   (1000000000.0, 'XRP', None, 'rw7FLKiVAyspjhgc6VTdVUdfc4AVaRsWuX'),\n",
       "   (1100000000.0, 'XRP', None, 'r4EFzAfhF2f2oU6j1jo9bKz5FdNrJzANZq'),\n",
       "   (1100000000.0, 'XRP', None, 'r4ogpiqNah8NmDVAdcWEdhuwsNUYoLdHLC'),\n",
       "   (1100000000.0, 'XRP', None, 'r4uPEFdNktoquNHh7fCXgKmpg6GmvdLauj'),\n",
       "   (1100000000.0, 'XRP', None, 'rBeKWo2iqFiHRkuEXHLnNmE8Q62xnqR12s'),\n",
       "   (1100000000.0, 'XRP', None, 'rBzhFv1hvJWQXX86MNWJ5aA5zSEk6NGVXm'),\n",
       "   (1100000000.0, 'XRP', None, 'rHKRnz8xWknfB5HzBosAX2xwTC6k5hdn6k'),\n",
       "   (1100000000.0, 'XRP', None, 'rKRTCLGzLfmhPCeSJWbfh4P9Zwudi2WUfs'),\n",
       "   (1100000000.0, 'XRP', None, 'rLDss3sLh8ELajte1jjsU9n5dvF6ASdeiJ'),\n",
       "   (1100000000.0, 'XRP', None, 'rPuUFPLnSQ6nTT1FWgVPRd1vdzvHqc1cyP'),\n",
       "   (1100000000.0, 'XRP', None, 'rsK2S7X572mfiLkrTfdrcbian32DZWzLCh'),\n",
       "   (1200000000.0, 'XRP', None, 'rG7QZMnX2uQPFfvozpd1iEjZY64J55Q6pE'),\n",
       "   (1200000000.0, 'XRP', None, 'rHNCK6pmcVfFpHhZQBpiVWLFxuN33Saaud'),\n",
       "   (1200000000.0, 'XRP', None, 'rJ9jKwKpdiUQpWBJhnFTifTynKY9ZFQFek'),\n",
       "   (1200000000.0, 'XRP', None, 'rJb1NSbMtD9BDtv1rdHfEvT8q8Mv8n7syf'),\n",
       "   (1200000000.0, 'XRP', None, 'rLBqBajRJeZzPzWKkHARtkvWEYnKbYkF7k'),\n",
       "   (1200000000.0, 'XRP', None, 'rLiFkpSGTekcQTk7K59Mk6m6RCTyPxt7xk'),\n",
       "   (1200000000.0, 'XRP', None, 'rPFhsdiLKc7FmdfX4hRFMYiXHFYGudbcwM'),\n",
       "   (1200000000.0, 'XRP', None, 'rPGe6qvAUiKkLTFvywJKqhpNiuru3Abms3'),\n",
       "   (1200000000.0, 'XRP', None, 'rPuUFPLnSQ6nTT1FWgVPRd1vdzvHqc1cyP'),\n",
       "   (1200000000.0, 'XRP', None, 'rUMxmv2y4ssjtwB9eQHSqFdii4EkUjTgXE'),\n",
       "   (1200000000.0, 'XRP', None, 'rUjJbBDpvjdDaUuC6YaiBdaa19MR9pqhMT'),\n",
       "   (1200000000.0, 'XRP', None, 'raeHbqTzFBd55xZAkhtoxzyBoZaEDSVmSr'),\n",
       "   (1200000000.0, 'XRP', None, 'rwaFtGThnHtdvpEz9sfznWTmoG2YRYXkc5'),\n",
       "   (1300000000.0, 'XRP', None, 'rENdtDtxCvCmRZAmtqAQJqKSyNbiBfvcgE'),\n",
       "   (1300000000.0, 'XRP', None, 'rPmUSGCZucedHQv7iAzTZJvCQYGhrtSUaA'),\n",
       "   (1300000000.0, 'XRP', None, 'rUjJbBDpvjdDaUuC6YaiBdaa19MR9pqhMT'),\n",
       "   (1300000000.0, 'XRP', None, 'rhsoqwZ7ZT6F1vvjEUSwowpb6XsCNshsxh'),\n",
       "   (1300000000.0, 'XRP', None, 'rsEXHVeJYRJGrNBZndvjs8183fc7aHG6ie'),\n",
       "   (1400000000.0, 'XRP', None, 'r3TBvSKbS7mJJFrexMmct57YEdVkDufV8D'),\n",
       "   (1400000000.0, 'XRP', None, 'r4ogpiqNah8NmDVAdcWEdhuwsNUYoLdHLC'),\n",
       "   (1400000000.0, 'XRP', None, 'rE1EFGgMYsKUKNkJDzthW8V9smdosFyMCX'),\n",
       "   (1400000000.0, 'XRP', None, 'rUpHSmhkLmjR8aSNYB2eWAdgcAppQhezEu'),\n",
       "   (1500000000.0, 'XRP', None, 'rBcVL3FrWKQFx8Rju8QEvCBcEcyDBzHp8J'),\n",
       "   (1500000000.0, 'XRP', None, 'rh4P5dUS5RgVhAaWSAyKM1zGraKH9NgUVU'),\n",
       "   (1500000000.0, 'XRP', None, 'rhHEatSy1CmRHq33C4nJ9tsamoZRMS6p9d'),\n",
       "   (1600000000.0, 'XRP', None, 'rGTFwQbp8GGKW1yLpeMJrgdK45cp562vTx'),\n",
       "   (1600000000.0, 'XRP', None, 'rHNCK6pmcVfFpHhZQBpiVWLFxuN33Saaud'),\n",
       "   (1700000000.0, 'XRP', None, 'rEE77T1E5vEFcEB9zM92jBD3rPs3kPdS1j'),\n",
       "   (1700000000.0, 'XRP', None, 'rEpzqJUGUGPAeqwe2DxQ7DE31k8ZgUC3Wp'),\n",
       "   (1700000000.0, 'XRP', None, 'rG7QZMnX2uQPFfvozpd1iEjZY64J55Q6pE'),\n",
       "   (1700000000.0, 'XRP', None, 'rJXaSJzvo3U3yKrdgAqBjLQD6oNFX5csEy'),\n",
       "   (1700000000.0, 'XRP', None, 'rLUihP6Q33NTAUSVAjAFTeTVYgUQKHiFbs'),\n",
       "   (1700000000.0, 'XRP', None, 'rUjJbBDpvjdDaUuC6YaiBdaa19MR9pqhMT'),\n",
       "   (1700000000.0, 'XRP', None, 'rnEuXkdGfSmTg4tjM7Z395hLQCSLwXkSeV'),\n",
       "   (1800000000.0, 'XRP', None, 'rMrbELgqVhDoW375Vs4psvCKV7LamMoeNS'),\n",
       "   (1900000000.0, 'XRP', None, 'rBcVL3FrWKQFx8Rju8QEvCBcEcyDBzHp8J'),\n",
       "   (1900000000.0, 'XRP', None, 'rGTFwQbp8GGKW1yLpeMJrgdK45cp562vTx'),\n",
       "   (1900000000.0, 'XRP', None, 'rHNCK6pmcVfFpHhZQBpiVWLFxuN33Saaud'),\n",
       "   (2000000000.0, 'XRP', None, 'rDeFzqnqkAthzde1Qwd1KmCEG7CQ5kBfLt'),\n",
       "   (2100000000.0, 'XRP', None, 'r8ifvQhmguKJBjLzLTndLPCuA4hKzaAvQ'),\n",
       "   (2100000000.0, 'XRP', None, 'rPHEhYXuvZusrCW1wEqfwWZTFVQigestpq'),\n",
       "   (2400000000.0, 'XRP', None, 'r2nt4zXDP6Be5FNrLsiuuTEBETbGR9RFw'),\n",
       "   (2500000000.0, 'XRP', None, 'rUg9ubj9J5fW9yLAhdcqu6fENo4HzTSKhh'),\n",
       "   (2700000000.0, 'XRP', None, 'rMq8WMm8LUuRDASqXBFNV4vvKXU9JRW6zb'),\n",
       "   (2700000000.0, 'XRP', None, 'rUjJbBDpvjdDaUuC6YaiBdaa19MR9pqhMT'),\n",
       "   (2900000000.0, 'XRP', None, 'rUjJbBDpvjdDaUuC6YaiBdaa19MR9pqhMT'),\n",
       "   (3000000000.0, 'XRP', None, 'r2nt4zXDP6Be5FNrLsiuuTEBETbGR9RFw'),\n",
       "   (3000000000.0, 'XRP', None, 'rMq8WMm8LUuRDASqXBFNV4vvKXU9JRW6zb'),\n",
       "   (3000000000.0, 'XRP', None, 'rPuUFPLnSQ6nTT1FWgVPRd1vdzvHqc1cyP'),\n",
       "   (3000000000.0, 'XRP', None, 'rwaFtGThnHtdvpEz9sfznWTmoG2YRYXkc5'),\n",
       "   (3100000000.0, 'XRP', None, 'rsK2S7X572mfiLkrTfdrcbian32DZWzLCh'),\n",
       "   (3200000000.0, 'XRP', None, 'rsQmBUZeDs3WTTzRg4U2X3djQzELyDfjQo'),\n",
       "   (3300000000.0, 'XRP', None, 'rfKTnx7UE2Ab596Gan6DFrxeKtijQxr2nZ'),\n",
       "   (3400000000.0, 'XRP', None, 'rNkJ4veDUHpHYMRHuXc6XsfMHMgJ443PPM'),\n",
       "   (3400000000.0, 'XRP', None, 'rUpHSmhkLmjR8aSNYB2eWAdgcAppQhezEu'),\n",
       "   (3400000000.0, 'XRP', None, 'rfKTnx7UE2Ab596Gan6DFrxeKtijQxr2nZ'),\n",
       "   (3500000000.0, 'XRP', None, 'rPTPG4mmcHYAS7YpLqpfYMe6GKbf1GU57G'),\n",
       "   (3600000000.0, 'XRP', None, 'rBHBZ9YEr4rFjyvpdou3QPKF6vNNYWKBS2'),\n",
       "   (3600000000.0, 'XRP', None, 'rUg9ubj9J5fW9yLAhdcqu6fENo4HzTSKhh'),\n",
       "   (3700000000.0, 'XRP', None, 'rMq8WMm8LUuRDASqXBFNV4vvKXU9JRW6zb'),\n",
       "   (3900000000.0, 'XRP', None, 'rJBZQsv6Rjea8WFfwQCeqRu2WYzFQfZnKF'),\n",
       "   (3900000000.0, 'XRP', None, 'rPxGLs9Zn2ukdFTiXjnZjgjTjLScits5dX'),\n",
       "   (3900000000.0, 'XRP', None, 'rUjJbBDpvjdDaUuC6YaiBdaa19MR9pqhMT'),\n",
       "   (4000000000.0, 'XRP', None, 'rUg9ubj9J5fW9yLAhdcqu6fENo4HzTSKhh'),\n",
       "   (4000000000.0, 'XRP', None, 'rX8jq5MKcJmfTWwtcFupY8SJY9MnGEJSb'),\n",
       "   (4100000000.0, 'XRP', None, 'r4uPEFdNktoquNHh7fCXgKmpg6GmvdLauj'),\n",
       "   (4100000000.0, 'XRP', None, 'rPFhsdiLKc7FmdfX4hRFMYiXHFYGudbcwM'),\n",
       "   (4300000000.0, 'XRP', None, 'rP4MJXYpNbif7eFbfmaeFnkqUjZAjwbN3H'),\n",
       "   (4300000000.0, 'XRP', None, 'rUQh7vX3DD3Y3bhWRkdNfhJCkYFpaQUcKt'),\n",
       "   (4300000000.0, 'XRP', None, 'rffYPCFiArzej5ZPsrwPPTbvmB7WJR1VC'),\n",
       "   (4400000000.0, 'XRP', None, 'rsK2S7X572mfiLkrTfdrcbian32DZWzLCh'),\n",
       "   (4500000000.0, 'XRP', None, 'rPHEhYXuvZusrCW1wEqfwWZTFVQigestpq'),\n",
       "   (4700000000.0, 'XRP', None, 'rUMxmv2y4ssjtwB9eQHSqFdii4EkUjTgXE'),\n",
       "   (4800000000.0, 'XRP', None, 'rMq8WMm8LUuRDASqXBFNV4vvKXU9JRW6zb'),\n",
       "   (5000000000.0, 'XRP', None, 'radAqKi6qUnvycwZ9vCuJXkFYvmFiJa91x'),\n",
       "   (5300000000.0, 'XRP', None, 'r3xZ7ymUF9Kr85n69YXvGqxd2znYLg7KRu'),\n",
       "   (5500000000.0, 'XRP', None, 'r4ogpiqNah8NmDVAdcWEdhuwsNUYoLdHLC'),\n",
       "   (6500000000.0, 'XRP', None, 'rLDss3sLh8ELajte1jjsU9n5dvF6ASdeiJ'),\n",
       "   (7200000000.0, 'XRP', None, 'rBNVR54HRP3N5gYRdiZWH8STg9FpGKdhBH'),\n",
       "   (8700000000.0, 'XRP', None, 'r8ifvQhmguKJBjLzLTndLPCuA4hKzaAvQ'),\n",
       "   (9700000000.0, 'XRP', None, 'rMuFPYxeJkvvm7M6twpu7YWVNfjwuFw2gp'),\n",
       "   (10000000000.0, 'XRP', None, 'rUjJbBDpvjdDaUuC6YaiBdaa19MR9pqhMT'),\n",
       "   (11100000000.0, 'XRP', None, 'rLJw35aysYL7tCTFLjfLYnegdUkvsM9f9q'),\n",
       "   (11800000000.0, 'XRP', None, 'rH8zuA7XhmfmnYJs6t3TZLK3n1ZtxqGRJK'),\n",
       "   (18600000000.0, 'XRP', None, 'rBHBZ9YEr4rFjyvpdou3QPKF6vNNYWKBS2')})]"
      ]
     },
     "execution_count": 105,
     "metadata": {},
     "output_type": "execute_result"
    }
   ],
   "source": [
    "#Check contents\n",
    "dict_head(data_by_sender)"
   ]
  },
  {
   "cell_type": "markdown",
   "metadata": {},
   "source": [
    "# Am - - -"
   ]
  },
  {
   "cell_type": "markdown",
   "metadata": {},
   "source": [
    "Paper: ~30%\n",
    "\n",
    "> Note: Like knowing the exact cost of one transaction, and trying to reidentify from that"
   ]
  },
  {
   "cell_type": "code",
   "execution_count": 106,
   "metadata": {
    "collapsed": false
   },
   "outputs": [
    {
     "name": "stdout",
     "output_type": "stream",
     "text": [
      "ripple_week1.csv\n"
     ]
    },
    {
     "name": "stderr",
     "output_type": "stream",
     "text": [
      "213077it [00:02, 99036.46it/s] \n"
     ]
    },
    {
     "name": "stdout",
     "output_type": "stream",
     "text": [
      "Number of senders: 20447 (check against stats from get_unicity)\n",
      "Number of different datapoints: 67087 (check against stats from get_unicity)\n"
     ]
    }
   ],
   "source": [
    "data_by_sender = load_data_by_sender(files,'m',False,False,False)\n",
    "\n",
    "data_by_point = by_point(data_by_sender)\n",
    "\n",
    "#Number of senders\n",
    "print(\"Number of senders: {} (check against stats from get_unicity)\".format(len(data_by_sender)))\n",
    "print(\"Number of different datapoints: {} (check against stats from get_unicity)\".format(len(data_by_point)))"
   ]
  },
  {
   "cell_type": "code",
   "execution_count": 107,
   "metadata": {
    "collapsed": false,
    "scrolled": true
   },
   "outputs": [
    {
     "data": {
      "text/plain": [
       "[('rhSFrJqsHKwbQdQxVgTmBnPFmA2c18S49x',\n",
       "  {(25000000.0, None, None, None),\n",
       "   (30000000.0, None, None, None),\n",
       "   (33000000.0, None, None, None),\n",
       "   (1600000000.0, None, None, None),\n",
       "   (1633000000.0, None, None, None)}),\n",
       " ('rJKpUXaaVJXZUJ4riBjLjiwwypBXeBHsPz',\n",
       "  {(100000000.0, None, None, None),\n",
       "   (200000000.0, None, None, None),\n",
       "   (300000000.0, None, None, None),\n",
       "   (400000000.0, None, None, None),\n",
       "   (500000000.0, None, None, None),\n",
       "   (600000000.0, None, None, None),\n",
       "   (700000000.0, None, None, None),\n",
       "   (800000000.0, None, None, None),\n",
       "   (900000000.0, None, None, None),\n",
       "   (1000000000.0, None, None, None),\n",
       "   (1100000000.0, None, None, None),\n",
       "   (1200000000.0, None, None, None),\n",
       "   (1300000000.0, None, None, None),\n",
       "   (1400000000.0, None, None, None),\n",
       "   (1500000000.0, None, None, None),\n",
       "   (1600000000.0, None, None, None),\n",
       "   (1700000000.0, None, None, None),\n",
       "   (1800000000.0, None, None, None),\n",
       "   (1900000000.0, None, None, None),\n",
       "   (2000000000.0, None, None, None),\n",
       "   (2100000000.0, None, None, None),\n",
       "   (2400000000.0, None, None, None),\n",
       "   (2500000000.0, None, None, None),\n",
       "   (2700000000.0, None, None, None),\n",
       "   (2900000000.0, None, None, None),\n",
       "   (3000000000.0, None, None, None),\n",
       "   (3100000000.0, None, None, None),\n",
       "   (3200000000.0, None, None, None),\n",
       "   (3300000000.0, None, None, None),\n",
       "   (3400000000.0, None, None, None),\n",
       "   (3500000000.0, None, None, None),\n",
       "   (3600000000.0, None, None, None),\n",
       "   (3700000000.0, None, None, None),\n",
       "   (3900000000.0, None, None, None),\n",
       "   (4000000000.0, None, None, None),\n",
       "   (4100000000.0, None, None, None),\n",
       "   (4300000000.0, None, None, None),\n",
       "   (4400000000.0, None, None, None),\n",
       "   (4500000000.0, None, None, None),\n",
       "   (4700000000.0, None, None, None),\n",
       "   (4800000000.0, None, None, None),\n",
       "   (5000000000.0, None, None, None),\n",
       "   (5300000000.0, None, None, None),\n",
       "   (5500000000.0, None, None, None),\n",
       "   (6500000000.0, None, None, None),\n",
       "   (7200000000.0, None, None, None),\n",
       "   (8700000000.0, None, None, None),\n",
       "   (9700000000.0, None, None, None),\n",
       "   (10000000000.0, None, None, None),\n",
       "   (11100000000.0, None, None, None),\n",
       "   (11800000000.0, None, None, None),\n",
       "   (18600000000.0, None, None, None)})]"
      ]
     },
     "execution_count": 107,
     "metadata": {},
     "output_type": "execute_result"
    }
   ],
   "source": [
    "#Check contents\n",
    "dict_head(data_by_sender)"
   ]
  },
  {
   "cell_type": "code",
   "execution_count": 108,
   "metadata": {
    "collapsed": false
   },
   "outputs": [
    {
     "name": "stdout",
     "output_type": "stream",
     "text": [
      "User number:  20447\n",
      "Point number:  67087\n",
      "Users included: 10000\n"
     ]
    },
    {
     "data": {
      "text/plain": [
       "0.3243"
      ]
     },
     "execution_count": 108,
     "metadata": {},
     "output_type": "execute_result"
    }
   ],
   "source": [
    "get_unicity(data_by_sender,1,1e4)"
   ]
  },
  {
   "cell_type": "markdown",
   "metadata": {},
   "source": [
    "# Al - Tdy -"
   ]
  },
  {
   "cell_type": "markdown",
   "metadata": {},
   "source": [
    "Paper: 1.28%\n",
    "> Knowing someone made some Ripple transaction rounded v. coarsely (in thousands) on some day"
   ]
  },
  {
   "cell_type": "code",
   "execution_count": 112,
   "metadata": {
    "collapsed": false
   },
   "outputs": [
    {
     "name": "stdout",
     "output_type": "stream",
     "text": [
      "ripple_week1.csv\n"
     ]
    },
    {
     "name": "stderr",
     "output_type": "stream",
     "text": [
      "213077it [00:02, 87808.22it/s]\n"
     ]
    },
    {
     "name": "stdout",
     "output_type": "stream",
     "text": [
      "Number of senders: 20447 (check against stats from get_unicity)\n",
      "Number of different datapoints: 56351 (check against stats from get_unicity)\n"
     ]
    }
   ],
   "source": [
    "data_by_sender = load_data_by_sender(files,'l',False,'d',False)\n",
    "\n",
    "data_by_point = by_point(data_by_sender)\n",
    "\n",
    "#Number of senders\n",
    "print(\"Number of senders: {} (check against stats from get_unicity)\".format(len(data_by_sender)))\n",
    "print(\"Number of different datapoints: {} (check against stats from get_unicity)\".format(len(data_by_point)))"
   ]
  },
  {
   "cell_type": "markdown",
   "metadata": {},
   "source": [
    "data_by_sender"
   ]
  },
  {
   "cell_type": "code",
   "execution_count": 113,
   "metadata": {
    "collapsed": false,
    "scrolled": true
   },
   "outputs": [
    {
     "name": "stdout",
     "output_type": "stream",
     "text": [
      "User number:  20447\n",
      "Point number:  56351\n",
      "Users included: 10000\n"
     ]
    },
    {
     "data": {
      "text/plain": [
       "0.3423"
      ]
     },
     "execution_count": 113,
     "metadata": {},
     "output_type": "execute_result"
    }
   ],
   "source": [
    "get_unicity(data_by_sender,1,1e4)"
   ]
  },
  {
   "cell_type": "markdown",
   "metadata": {},
   "source": [
    "> Maybe there are more transactions of the same order of magnitude?\n",
    "\n",
    "!TODO:"
   ]
  },
  {
   "cell_type": "markdown",
   "metadata": {},
   "source": [
    "# Summary"
   ]
  },
  {
   "cell_type": "code",
   "execution_count": 118,
   "metadata": {
    "collapsed": true
   },
   "outputs": [],
   "source": [
    "#Results for p=1, npeople = 1e4\n",
    "results = dict()\n",
    "results[\"Am,Tsc,C,D\"] = 0.9901\n",
    "results[\"Am,Tsc,-,D\"] = 0.9906\n",
    "results[\"Am,Tsc,C,-\"] = 0.9827\n",
    "results[\"-,Tsc,C,D\"] = 0.7228\n",
    "results[\"Ah,Tmn,C,D\"] = 0.9856\n",
    "results[\"Aa,Thr,C,D\"] = 0.9039\n",
    "results[\"Al,Tdy,C,D\"] = 0.6856\n",
    "results[\"Am,-,C,D\"] = 0.6652\n",
    "results[\"Am,-,-,-\"] = 0.3243\n",
    "results[\"Al,Tdy,-,-\"] = 0.3423"
   ]
  },
  {
   "cell_type": "code",
   "execution_count": 139,
   "metadata": {
    "collapsed": false
   },
   "outputs": [
    {
     "data": {
      "text/plain": [
       "<Container object of 10 artists>"
      ]
     },
     "execution_count": 139,
     "metadata": {},
     "output_type": "execute_result"
    },
    {
     "name": "stderr",
     "output_type": "stream",
     "text": [
      "C:\\Users\\admin\\Anaconda3\\lib\\site-packages\\matplotlib\\font_manager.py:1297: UserWarning: findfont: Font family ['normal'] not found. Falling back to DejaVu Sans\n",
      "  (prop.get_family(), self.defaultFamily[fontext]))\n"
     ]
    },
    {
     "data": {
      "image/png": "[encoded data removed]",
      "text/plain": [
       "<matplotlib.figure.Figure at 0x19427c68c50>"
      ]
     },
     "metadata": {},
     "output_type": "display_data"
    }
   ],
   "source": [
    "import matplotlib.pyplot as plt\n",
    "import seaborn as sns\n",
    "%matplotlib inline\n",
    "plt.figure(figsize=(12,6))\n",
    "font={'family': 'normal',\n",
    "     'size':20}\n",
    "plt.rc('font',**font)\n",
    "plt.barh(range(len(results)),list(results.values()),tick_label=list(results.keys()))"
   ]
  }
 ],
 "metadata": {
  "kernelspec": {
   "display_name": "Python 3",
   "language": "python",
   "name": "python3"
  },
  "language_info": {
   "codemirror_mode": {
    "name": "ipython",
    "version": 3
   },
   "file_extension": ".py",
   "mimetype": "text/x-python",
   "name": "python",
   "nbconvert_exporter": "python",
   "pygments_lexer": "ipython3",
   "version": "3.6.0"
  }
 },
 "nbformat": 4,
 "nbformat_minor": 2
}
