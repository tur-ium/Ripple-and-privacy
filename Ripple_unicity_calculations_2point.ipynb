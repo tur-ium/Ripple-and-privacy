{
 "cells": [
  {
   "cell_type": "markdown",
   "metadata": {},
   "source": [
    "# Calculating unicity for 2 points"
   ]
  },
  {
   "cell_type": "markdown",
   "metadata": {},
   "source": [
    "Calculation and pickling of `results` and `data_by_point` dictionaries"
   ]
  },
  {
   "cell_type": "code",
   "execution_count": 21,
   "metadata": {
    "collapsed": false
   },
   "outputs": [],
   "source": [
    "import csv\n",
    "import random\n",
    "from tqdm import tqdm_notebook as tqdm\n",
    "import datetime\n",
    "import pandas as pd\n",
    "from dict_tools import *\n",
    "import pickle #For saving dictionaries with results\n",
    "import time #For calculating timings\n",
    "\n",
    "import matplotlib.pyplot as plt\n",
    "import seaborn as sns\n",
    "%matplotlib inline"
   ]
  },
  {
   "cell_type": "code",
   "execution_count": 22,
   "metadata": {
    "collapsed": true
   },
   "outputs": [],
   "source": [
    "#FUNCTIONS\n",
    "def coarsen_time(timestamp,degree):\n",
    "    '''Coarsen time by the degree `degree`.\n",
    "    Degree is either 'd' (day), 'm' (minute), 'h' (hour), 's' (second), or False (exclude)\n",
    "    '''\n",
    "    if degree == 'd':\n",
    "        return timestamp[0:10]\n",
    "    elif degree == 'h':\n",
    "        return timestamp[0:13]\n",
    "    elif degree == 'm':\n",
    "        return timestamp[0:16]\n",
    "    elif degree == 's':\n",
    "        return timestamp[0:19]\n",
    "    else:\n",
    "        return None\n",
    "        \n",
    "unknown_curr = set()\n",
    "def coarsen_amount(amount,degree,currency):\n",
    "    '''Coarsen amount by the degree `degree`, which depends on the strength of\\\n",
    "        the `currency`. \n",
    "        `degree` can take:\n",
    "        'm'\" max, 'h': High, 'm': Medium, 'l': low\n",
    "        \n",
    "        Note that strength is not checked online, so it may not\\\n",
    "        be accurate if the strength of a currency has changed dramatically\n",
    "        \n",
    "        Note that rounding may not be perfect owing to floating point issues\n",
    "    '''\n",
    "    #Strength of currencies in 2014, I'm going to check these (I think XRP is \\\n",
    "    # now about as strong as the pound)\n",
    "    \n",
    "    strong_curr = ('BTC', 'XAG','XAU', 'XPT')\n",
    "    med_curr = ('CNY','EUR','USD','AUD','GBP','JPY') #<- STRENGTH OF XRP HAS CHANGED SINCE 2015\n",
    "    weak_curr = ('CCK','STR','KRW','MTL','XRP')\n",
    "    \n",
    "    lookup_strong = {'h': 1e-3, 'a': 1e-2, 'l': 1e-1}\n",
    "    lookup_med = {'h': 1e1, 'a': 1e2, 'l': 1e3}\n",
    "    lookup_weak = {'h': 1e5, 'a': 1e6, 'l': 1e7}\n",
    "    if degree is False:\n",
    "        return None\n",
    "    elif degree == 'm':\n",
    "        return amount\n",
    "    else:\n",
    "        if currency in strong_curr:\n",
    "            prec = lookup_strong[degree]\n",
    "        elif currency in med_curr:\n",
    "            prec = lookup_med[degree]\n",
    "        elif currency in weak_curr:\n",
    "            prec = lookup_weak[degree]\n",
    "        else:\n",
    "            unknown_curr.add(currency)\n",
    "            #print(\"Unknown currency {}\".format(currency))\n",
    "            prec = 1\n",
    "    \n",
    "        coarse_amount = float(int(round(amount/prec)))*prec\n",
    "\n",
    "        return coarse_amount"
   ]
  },
  {
   "cell_type": "code",
   "execution_count": 23,
   "metadata": {
    "collapsed": false,
    "scrolled": true
   },
   "outputs": [],
   "source": [
    "#LOAD DATA\n",
    "start_date = datetime.date(2017,6,1)\n",
    "end_date = datetime.date(2017,8,29)\n",
    "date_list = pd.date_range(start_date,end_date,freq=\"1D\")\n",
    "\n",
    "files = []\n",
    "for day in date_list:\n",
    "    #print(\"Current date: {}\".format(day.strftime(\"%Y-%m-%d\")))\n",
    "    this_day = day.strftime(\"%Y-%m-%d\")\n",
    "    next_day = (day+datetime.timedelta(days=1)).strftime(\"%Y-%m-%d\")\n",
    "    files.append(\"Ripple_transactions_{}_to_{}.csv\".format(this_day,next_day))\n",
    "\n",
    "def load_data_by_sender(files,a_res,include_c,t_res,include_d):\n",
    "    '''Create dictionary from a list of file names `file` \\\n",
    "        with keys being senders and datapoints by tuple \\\n",
    "        (Amount, Currency, Time, Destination)'''\n",
    "    data_by_sender = {}\n",
    "    for file in tqdm(files):\n",
    "        i = 0\n",
    "        for line in csv.reader(open(file,'r')):\n",
    "            if i == 0:\n",
    "                header = line\n",
    "            else:\n",
    "                sender = line[header.index('Sender')]\n",
    "                \n",
    "                \n",
    "                curr = line[header.index('Currency')]\n",
    "                amount = coarsen_amount(float(line[header.index('Amount')]),a_res,curr)   #<- COARSENING \n",
    "                time = coarsen_time(line[header.index('Timestamp')],t_res)       #<- COARSENING\n",
    "                if include_d:\n",
    "                    destination = line[header.index('Destination')]\n",
    "                else:\n",
    "                    destination = None\n",
    "                if not include_c:\n",
    "                    curr = None\n",
    "                datapoint = tuple([amount,curr,time,destination])\n",
    "                \n",
    "                if sender not in data_by_sender:\n",
    "                    data_by_sender[sender] = set() \n",
    "                data_by_sender[sender].add(tuple(datapoint))\n",
    "            i+=1\n",
    "    return data_by_sender"
   ]
  },
  {
   "cell_type": "code",
   "execution_count": 24,
   "metadata": {
    "collapsed": false
   },
   "outputs": [],
   "source": [
    "def by_point(data_by_sender):\n",
    "    \"\"\"\n",
    "    Returns a dictionary mapping datapoints (Amount, Currency, Time, Destination) to the \\\n",
    "    users who share this datapoint\n",
    "    \n",
    "    \"\"\"\n",
    "    print(\"CONVERTING DATA BY SENDER TO DATA BY POINT\")\n",
    "    \n",
    "    data_by_point = {}\n",
    "    for sender in tqdm(data_by_sender):\n",
    "        for datapoint in data_by_sender[sender]:\n",
    "            if datapoint not in data_by_point:\n",
    "                data_by_point[datapoint] = set()\n",
    "            data_by_point[datapoint].add(sender)\n",
    "    \n",
    "    return data_by_point\n",
    "\n",
    "def get_unicity(dataset,p,npeople = 10000):\n",
    "    \"\"\"\n",
    "    Returns unicity (float) of `dataset` (dict), where `p` (int) is number of points sampled for each \\\n",
    "     person (if they have that many points) and `npeople` (int) is the number of people for whom their \\\n",
    "     uniqueness (for a set of points) is calculated\n",
    "    \"\"\"\n",
    "    if npeople == 'all':\n",
    "        npeople = len(dataset.keys())\n",
    "    else:\n",
    "        npeople = int(npeople) #Just to make sure\n",
    "    \n",
    "    points_to_users = by_point(dataset)\n",
    "    \n",
    "    print(\"User number: \",len(dataset))\n",
    "    print(\"Point number: \",len(points_to_users))\n",
    "\n",
    "    unique_users = set()\n",
    "    users = random.sample(list(dataset.keys()),npeople)\n",
    "    \n",
    "    users_included = set() #<- Users with at least p points\n",
    "\n",
    "    for u in tqdm(users):\n",
    "\n",
    "        u_data = dataset[u]\n",
    "\n",
    "        if len(u_data) < p: # <- NOT len(u_data) <= p\n",
    "            continue\n",
    "        else:\n",
    "            p_points = random.sample(u_data,p)\n",
    "            users_included.add(u)\n",
    "        is_unique = True\n",
    "        \n",
    "        similar_people = set(dataset.keys())\n",
    "\n",
    "        for point in p_points:\n",
    "            similar_people = similar_people.intersection(points_to_users[point])\n",
    "   \n",
    "\n",
    "        if len(similar_people) > 1:\n",
    "            is_unique = False\n",
    "            continue #<-NEED TO CONTINUE NOT BREAK!\n",
    "        \n",
    "        if is_unique:\n",
    "            unique_users.add(u) \n",
    "\n",
    "    print(\"Users included:\",len(users_included))\n",
    "    return len(unique_users)/len(users_included) #<-COMPARING WITH NUMBER OF USERS WITH AT LEAST p POINTS"
   ]
  },
  {
   "cell_type": "code",
   "execution_count": 25,
   "metadata": {
    "collapsed": false
   },
   "outputs": [],
   "source": [
    "experiments = {\"Am,Tsc,C,D\":['m',True,'s',True],\n",
    "               \"Am,Tsc,-,D\":['m',False,'s',True],\n",
    "               \"Am,Tsc,C,-\":['m',True,'s',False],\n",
    "               \"-,Tsc,C,D\": [False,True,'s',True],\n",
    "               \"Ah,Tmn,C,D\":['h',True,'m',True],\n",
    "               \"Aa,Thr,C,D\":['a',True,'h',True],\n",
    "               \"Al,Tdy,C,D\":['l',True,'d',True],\n",
    "               \"Am,-,C,D\":['m',True,False,True],\n",
    "               \"Am,-,-,-\":['m',False,False,False],\n",
    "               \"Al,Tdy,-,-\":['l',False,'d',False]\n",
    "              }\n",
    "experiments_test = {\"Am,Tsc,C,D\":['m',True,'s',True],\n",
    "               \"Am,Tsc,C,-\":['m',True,'s',False],\n",
    "               \"-,Tsc,C,D\":[False,True,'s',True],\n",
    "               }\n",
    "def run_experiment(parameters,p,name=\"unnamed_ripple_experiment\",npeople=10000):\n",
    "    '''Run experiment using resolutions defined in `parameters` \\\n",
    "        (Amount res, Include Currency, Time res, Include Destination)\n",
    "        and picking p datapoints for the unicity test\n",
    "        \n",
    "        Pickles the coarsened dataset object to a file {NAME}_p{P VALUE}-data_by_sender.pkl\n",
    "        '''\n",
    "    print(\"LOADING DATA\")\n",
    "    data_by_sender = load_data_by_sender(files,*parameters)\n",
    "    filename = '{}_p{}-data_by_sender.pkl'.format(name,p)\n",
    "    print(\"PICKLING DATA to {}\".format(filename))\n",
    "    pickle.dump(data_by_sender,open(filename,'wb'))\n",
    "    print(\"CALCULATING UNICITY\")\n",
    "    unicity = get_unicity(data_by_sender,p,npeople)\n",
    "    return unicity"
   ]
  },
  {
   "cell_type": "code",
   "execution_count": 30,
   "metadata": {
    "collapsed": false
   },
   "outputs": [
    {
     "name": "stdout",
     "output_type": "stream",
     "text": [
      "-------------------------------------------\n",
      "EXPERIMENT Am,Tsc,C,D: COARSENING: ['m', True, 's', True]\n",
      "LOADING DATA\n",
      "\n",
      "PICKLING DATA to Am,Tsc,C,D_p2-data_by_sender.pkl\n",
      "CALCULATING UNICITY\n",
      "CONVERTING DATA BY SENDER TO DATA BY POINT\n",
      "\n",
      "User number:  89148\n",
      "Point number:  2310577\n",
      "\n",
      "Users included: 5596\n",
      "-------------------------------------------\n",
      "EXPERIMENT Am,Tsc,-,D: COARSENING: ['m', False, 's', True]\n",
      "LOADING DATA\n",
      "\n",
      "PICKLING DATA to Am,Tsc,-,D_p2-data_by_sender.pkl\n",
      "CALCULATING UNICITY\n",
      "CONVERTING DATA BY SENDER TO DATA BY POINT\n",
      "\n",
      "User number:  89148\n",
      "Point number:  2310571\n",
      "\n",
      "Users included: 5669\n",
      "-------------------------------------------\n",
      "EXPERIMENT Am,Tsc,C,-: COARSENING: ['m', True, 's', False]\n",
      "LOADING DATA\n",
      "\n",
      "PICKLING DATA to Am,Tsc,C,-_p2-data_by_sender.pkl\n",
      "CALCULATING UNICITY\n",
      "CONVERTING DATA BY SENDER TO DATA BY POINT\n",
      "\n",
      "User number:  89148\n",
      "Point number:  2216491\n",
      "\n",
      "Users included: 5645\n",
      "-------------------------------------------\n",
      "EXPERIMENT -,Tsc,C,D: COARSENING: [False, True, 's', True]\n",
      "LOADING DATA\n",
      "\n",
      "PICKLING DATA to -,Tsc,C,D_p2-data_by_sender.pkl\n",
      "CALCULATING UNICITY\n",
      "CONVERTING DATA BY SENDER TO DATA BY POINT\n",
      "\n",
      "User number:  89148\n",
      "Point number:  2219769\n",
      "\n",
      "Users included: 5689\n",
      "-------------------------------------------\n",
      "EXPERIMENT Ah,Tmn,C,D: COARSENING: ['h', True, 'm', True]\n",
      "LOADING DATA\n",
      "\n",
      "PICKLING DATA to Ah,Tmn,C,D_p2-data_by_sender.pkl\n",
      "CALCULATING UNICITY\n",
      "CONVERTING DATA BY SENDER TO DATA BY POINT\n",
      "\n",
      "User number:  89148\n",
      "Point number:  2047914\n",
      "\n",
      "Users included: 5615\n",
      "-------------------------------------------\n",
      "EXPERIMENT Aa,Thr,C,D: COARSENING: ['a', True, 'h', True]\n",
      "LOADING DATA\n",
      "\n",
      "PICKLING DATA to Aa,Thr,C,D_p2-data_by_sender.pkl\n",
      "CALCULATING UNICITY\n",
      "CONVERTING DATA BY SENDER TO DATA BY POINT\n",
      "\n",
      "User number:  89148\n",
      "Point number:  1646653\n",
      "\n",
      "Users included: 5614\n",
      "-------------------------------------------\n",
      "EXPERIMENT Al,Tdy,C,D: COARSENING: ['l', True, 'd', True]\n",
      "LOADING DATA\n",
      "\n",
      "PICKLING DATA to Al,Tdy,C,D_p2-data_by_sender.pkl\n",
      "CALCULATING UNICITY\n",
      "CONVERTING DATA BY SENDER TO DATA BY POINT\n",
      "\n",
      "User number:  89148\n",
      "Point number:  931636\n",
      "\n",
      "Users included: 5301\n",
      "-------------------------------------------\n",
      "EXPERIMENT Am,-,C,D: COARSENING: ['m', True, False, True]\n",
      "LOADING DATA\n",
      "\n",
      "PICKLING DATA to Am,-,C,D_p2-data_by_sender.pkl\n",
      "CALCULATING UNICITY\n",
      "CONVERTING DATA BY SENDER TO DATA BY POINT\n",
      "\n",
      "User number:  89148\n",
      "Point number:  770124\n",
      "\n",
      "Users included: 5449\n",
      "-------------------------------------------\n",
      "EXPERIMENT Am,-,-,-: COARSENING: ['m', False, False, False]\n",
      "LOADING DATA\n",
      "\n",
      "PICKLING DATA to Am,-,-,-_p2-data_by_sender.pkl\n",
      "CALCULATING UNICITY\n",
      "CONVERTING DATA BY SENDER TO DATA BY POINT\n",
      "\n",
      "User number:  89148\n",
      "Point number:  479794\n",
      "\n",
      "Users included: 5486\n",
      "-------------------------------------------\n",
      "EXPERIMENT Al,Tdy,-,-: COARSENING: ['l', False, 'd', False]\n",
      "LOADING DATA\n",
      "\n",
      "PICKLING DATA to Al,Tdy,-,-_p2-data_by_sender.pkl\n",
      "CALCULATING UNICITY\n",
      "CONVERTING DATA BY SENDER TO DATA BY POINT\n",
      "\n",
      "User number:  89148\n",
      "Point number:  181818\n",
      "\n",
      "Users included: 5289\n"
     ]
    }
   ],
   "source": [
    "start = time.time()\n",
    "\n",
    "def run(p,npeople=10000):\n",
    "    results = dict()\n",
    "    for exp in experiments:\n",
    "        print(\"-------------------------------------------\\nEXPERIMENT {}: COARSENING: {}\".format(exp,experiments[exp]))\n",
    "        results[exp] = run_experiment(experiments[exp],p=p,name=exp,npeople=npeople)\n",
    "    return results\n",
    "\n",
    "results_p2 = run(p=2)\n",
    "end = time.time()\n",
    "time_taken = end-start"
   ]
  },
  {
   "cell_type": "code",
   "execution_count": 31,
   "metadata": {
    "collapsed": true
   },
   "outputs": [],
   "source": [
    "pickle.dump(results_p2,open('results_p2.pkl','wb'))"
   ]
  },
  {
   "cell_type": "code",
   "execution_count": 32,
   "metadata": {
    "collapsed": false
   },
   "outputs": [],
   "source": [
    "import winsound\n",
    "winsound.MessageBeep(winsound.MB_ICONHAND)"
   ]
  }
 ],
 "metadata": {
  "kernelspec": {
   "display_name": "Python 3",
   "language": "python",
   "name": "python3"
  },
  "language_info": {
   "codemirror_mode": {
    "name": "ipython",
    "version": 3
   },
   "file_extension": ".py",
   "mimetype": "text/x-python",
   "name": "python",
   "nbconvert_exporter": "python",
   "pygments_lexer": "ipython3",
   "version": "3.6.0"
  },
  "widgets": {
   "state": {
    "005ce7d93545405c919c2bbe5c1b39e4": {
     "views": [
      {
       "cell_index": 7
      }
     ]
    },
    "014230c7f59a4247a0359bc0545fda05": {
     "views": [
      {
       "cell_index": 7
      }
     ]
    },
    "0454a64b9c974b70ac0f1f63800a2318": {
     "views": [
      {
       "cell_index": 7
      }
     ]
    },
    "1a207f7a39c14e1da2a50a031d9eef87": {
     "views": [
      {
       "cell_index": 7
      }
     ]
    },
    "1d3e1024cb334a0c825a5176e2fb5c4e": {
     "views": [
      {
       "cell_index": 7
      }
     ]
    },
    "2035463bd68c476796f92f759f8946c6": {
     "views": [
      {
       "cell_index": 7
      }
     ]
    },
    "20ad0a447bc9449dbd655b0a17f86ea7": {
     "views": [
      {
       "cell_index": 7
      }
     ]
    },
    "215ccec1e11247f6ac83e934374ed5c7": {
     "views": [
      {
       "cell_index": 7
      }
     ]
    },
    "231614af0c624ff293a1579cbd9ee07e": {
     "views": [
      {
       "cell_index": 7
      }
     ]
    },
    "250597f8c76c43898ce790767eda108a": {
     "views": [
      {
       "cell_index": 7
      }
     ]
    },
    "2c03be1531ea4cb8811248bb41a6dbbc": {
     "views": [
      {
       "cell_index": 7
      }
     ]
    },
    "2ce9d3a013104a5c8c9033d8db550bd0": {
     "views": [
      {
       "cell_index": 7
      }
     ]
    },
    "2e6c2e60c85f454aa6e15d9f321550a2": {
     "views": [
      {
       "cell_index": 7
      }
     ]
    },
    "31aa3e0bc82d4de4af8f7083aa1c1fc1": {
     "views": [
      {
       "cell_index": 7
      }
     ]
    },
    "330406ecdcb546cd81ca6f28337b409f": {
     "views": [
      {
       "cell_index": 7
      }
     ]
    },
    "3821849ad6344812857c84d84ba24f51": {
     "views": [
      {
       "cell_index": 7
      }
     ]
    },
    "45fa7c2377e14e37ab60bb64737e2f35": {
     "views": [
      {
       "cell_index": 7
      }
     ]
    },
    "5b8ce4e20e0c45f58fdcbd3e8c2c95b7": {
     "views": [
      {
       "cell_index": 7
      }
     ]
    },
    "63a4c3f75a1e409a8bc352cbcb5d07a7": {
     "views": [
      {
       "cell_index": 7
      }
     ]
    },
    "6928b678265f492d9f1c1c4c12e93da6": {
     "views": [
      {
       "cell_index": 7
      }
     ]
    },
    "6e32962bfc184d5b900a1653f21db472": {
     "views": [
      {
       "cell_index": 7
      }
     ]
    },
    "82dac76afc1a4356a3dbaabc24c27371": {
     "views": [
      {
       "cell_index": 7
      }
     ]
    },
    "8d7d9be1bf724fff84c7e6fb85a30336": {
     "views": [
      {
       "cell_index": 7
      }
     ]
    },
    "93574728f28840bf872263122723a62d": {
     "views": [
      {
       "cell_index": 7
      }
     ]
    },
    "991b0841fd9d4a3dbf34213bb338eaaa": {
     "views": [
      {
       "cell_index": 7
      }
     ]
    },
    "9a907fb765b346fd884669e05cc62e48": {
     "views": [
      {
       "cell_index": 7
      }
     ]
    },
    "a2e3c2aed8c947a3b2b05079da4f3a23": {
     "views": [
      {
       "cell_index": 7
      }
     ]
    },
    "a2f3dde267cb493da8cc31016360dbb0": {
     "views": [
      {
       "cell_index": 7
      }
     ]
    },
    "a7284d8a846f4f2b9f3c74228eef4fe2": {
     "views": [
      {
       "cell_index": 7
      }
     ]
    },
    "a9dcbdc7f51345809ab36fdde126970a": {
     "views": [
      {
       "cell_index": 7
      }
     ]
    },
    "ac2c38c2309f406ab5ff2980d9f1c76c": {
     "views": [
      {
       "cell_index": 7
      }
     ]
    },
    "ae66b704a1774e5fb7b6c2a12199078c": {
     "views": [
      {
       "cell_index": 7
      }
     ]
    },
    "b73e1d9076924e69a737da97ab18846a": {
     "views": [
      {
       "cell_index": 7
      }
     ]
    },
    "bb66baa0565d473f80ddd458e8686245": {
     "views": [
      {
       "cell_index": 7
      }
     ]
    },
    "befbcf2f67f04da79bcc74b7404ee4a5": {
     "views": [
      {
       "cell_index": 7
      }
     ]
    },
    "c11f145fd3bf4b6fbaa7b87224a2939f": {
     "views": [
      {
       "cell_index": 7
      }
     ]
    },
    "c2f0f354514b467982b89372e6e17830": {
     "views": [
      {
       "cell_index": 7
      }
     ]
    },
    "c5d8f21396f74a71a684875bdbc784f9": {
     "views": [
      {
       "cell_index": 7
      }
     ]
    },
    "d5012fa305894f62b9c30f051c292c56": {
     "views": [
      {
       "cell_index": 7
      }
     ]
    },
    "d6ea39897d7143e8a69e40db9b97be32": {
     "views": [
      {
       "cell_index": 7
      }
     ]
    },
    "dd9cad925efe4283a9bad303f36842db": {
     "views": [
      {
       "cell_index": 7
      }
     ]
    },
    "e7f3d1142b9e4546ad8a0f0c3a1daa98": {
     "views": [
      {
       "cell_index": 7
      }
     ]
    },
    "f2977f8ccb80484c8c2915004e956feb": {
     "views": [
      {
       "cell_index": 7
      }
     ]
    },
    "fb9f33173f1c4c1e90c25ca6d9271162": {
     "views": [
      {
       "cell_index": 7
      }
     ]
    },
    "ff2948bf0467452faeb7367ce8a2bb19": {
     "views": [
      {
       "cell_index": 7
      }
     ]
    }
   },
   "version": "1.2.0"
  }
 },
 "nbformat": 4,
 "nbformat_minor": 2
}
