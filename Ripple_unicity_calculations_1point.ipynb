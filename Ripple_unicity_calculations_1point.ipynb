{
 "cells": [
  {
   "cell_type": "markdown",
   "metadata": {},
   "source": [
    "# Contents\n",
    "1. [Calculating unicity](#Calculating-unicity): how the results were calculated\n",
    "2. [Notes to self](#Notes-to-self): naming conventions, thoughts while analysing data, etc.\n",
    "3. Other results: \n",
    "    a) Results from the paper by DiLuzio, Mei, et al.\n",
    "    b) Results for 7 days (2017-06-21 to 2017-06-28)\n",
    "5. [Summary](#Summary)\n"
   ]
  },
  {
   "cell_type": "markdown",
   "metadata": {},
   "source": [
    "# Calculating unicity"
   ]
  },
  {
   "cell_type": "code",
   "execution_count": 5,
   "metadata": {
    "collapsed": false
   },
   "outputs": [],
   "source": [
    "import csv\n",
    "import random\n",
    "from tqdm import tqdm_notebook as tqdm\n",
    "import datetime\n",
    "import pandas as pd\n",
    "from dict_tools import *\n",
    "import pickle #For saving dictionaries with results\n",
    "\n",
    "import matplotlib.pyplot as plt\n",
    "import seaborn as sns\n",
    "%matplotlib inline"
   ]
  },
  {
   "cell_type": "code",
   "execution_count": 2,
   "metadata": {
    "collapsed": true
   },
   "outputs": [],
   "source": [
    "#FUNCTIONS\n",
    "def coarsen_time(timestamp,degree):\n",
    "    '''Coarsen time by the degree `degree`.\n",
    "    Degree is either 'd' (day), 'm' (minute), 'h' (hour), 's' (second), or False (exclude)\n",
    "    '''\n",
    "    if degree == 'd':\n",
    "        return timestamp[0:10]\n",
    "    elif degree == 'h':\n",
    "        return timestamp[0:13]\n",
    "    elif degree == 'm':\n",
    "        return timestamp[0:16]\n",
    "    elif degree == 's':\n",
    "        return timestamp[0:19]\n",
    "    else:\n",
    "        return None\n",
    "        \n",
    "unknown_curr = set()\n",
    "def coarsen_amount(amount,degree,currency):\n",
    "    '''Coarsen amount by the degree `degree`, which depends on the strength of\\\n",
    "        the `currency`. \n",
    "        `degree` can take:\n",
    "        'm'\" max, 'h': High, 'm': Medium, 'l': low\n",
    "        \n",
    "        Note that strength is not checked online, so it may not\\\n",
    "        be accurate if the strength of a currency has changed dramatically\n",
    "        \n",
    "        Note that rounding may not be perfect owing to floating point issues\n",
    "    '''\n",
    "    #Strength of currencies in 2014, I'm going to check these (I think XRP is \\\n",
    "    # now about as strong as the pound)\n",
    "    \n",
    "    strong_curr = ('BTC', 'XAG','XAU', 'XPT')\n",
    "    med_curr = ('CNY','EUR','USD','AUD','GBP','JPY','XRP') #<- XRP DIFFERENT TO ORIGINAL PAPER\n",
    "    weak_curr = ('CCK','STR','KRW','MTL')\n",
    "    \n",
    "    lookup_strong = {'h': 1e-3, 'a': 1e-2, 'l': 1e-1}\n",
    "    lookup_med = {'h': 1e1, 'a': 1e2, 'l': 1e3}\n",
    "    lookup_weak = {'h': 1e5, 'a': 1e6, 'l': 1e7}\n",
    "    if degree is False:\n",
    "        return None\n",
    "    elif degree == 'm':\n",
    "        return amount\n",
    "    else:\n",
    "        if currency in strong_curr:\n",
    "            prec = lookup_strong[degree]\n",
    "        elif currency in med_curr:\n",
    "            prec = lookup_med[degree]\n",
    "        elif currency in weak_curr:\n",
    "            prec = lookup_weak[degree]\n",
    "        else:\n",
    "            unknown_curr.add(currency)\n",
    "            #print(\"Unknown currency {}\".format(currency))\n",
    "            prec = 1\n",
    "    \n",
    "        coarse_amount = float(int(round(amount/prec)))*prec\n",
    "\n",
    "        return coarse_amount"
   ]
  },
  {
   "cell_type": "code",
   "execution_count": 7,
   "metadata": {
    "collapsed": false,
    "scrolled": true
   },
   "outputs": [],
   "source": [
    "#LOAD DATA\n",
    "start_date = datetime.date(2017,6,1)\n",
    "end_date = datetime.date(2017,8,29)\n",
    "date_list = pd.date_range(start_date,end_date,freq=\"1D\")\n",
    "\n",
    "files = []\n",
    "for day in date_list:\n",
    "    #print(\"Current date: {}\".format(day.strftime(\"%Y-%m-%d\")))\n",
    "    this_day = day.strftime(\"%Y-%m-%d\")\n",
    "    next_day = (day+datetime.timedelta(days=1)).strftime(\"%Y-%m-%d\")\n",
    "    files.append(\"Ripple_transactions_{}_to_{}.csv\".format(this_day,next_day))\n",
    "\n",
    "def load_data_by_sender(files,a_res,include_c,t_res,include_d):\n",
    "    '''Create dictionary from a list of file names `file` \\\n",
    "        with keys being senders and datapoints by tuple \\\n",
    "        (Amount, Currency, Time, Destination)'''\n",
    "    data_by_sender = {}\n",
    "    for file in tqdm(files):\n",
    "        i = 0\n",
    "        for line in csv.reader(open(file,'r')):\n",
    "            if i == 0:\n",
    "                header = line\n",
    "            else:\n",
    "                sender = line[header.index('Sender')]\n",
    "                \n",
    "                \n",
    "                curr = line[header.index('Currency')]\n",
    "                amount = coarsen_amount(float(line[header.index('Amount')]),a_res,curr)   #<- COARSENING \n",
    "                time = coarsen_time(line[header.index('Timestamp')],t_res)       #<- COARSENING\n",
    "                if include_d:\n",
    "                    destination = line[header.index('Destination')]\n",
    "                else:\n",
    "                    destination = None\n",
    "                if not include_c:\n",
    "                    curr = None\n",
    "                datapoint = tuple([amount,curr,time,destination])\n",
    "                \n",
    "                if sender not in data_by_sender:\n",
    "                    data_by_sender[sender] = set() \n",
    "                data_by_sender[sender].add(tuple(datapoint))\n",
    "            i+=1\n",
    "    return data_by_sender"
   ]
  },
  {
   "cell_type": "code",
   "execution_count": 4,
   "metadata": {
    "collapsed": false
   },
   "outputs": [],
   "source": [
    "def by_point(data_by_sender):\n",
    "    \"\"\"\n",
    "    Returns a dictionary mapping datapoints (Amount, Currency, Time, Destination) to the \\\n",
    "    users who share this datapoint\n",
    "    \n",
    "    \"\"\"\n",
    "    data_by_point = {}\n",
    "    for sender in data_by_sender:\n",
    "        for datapoint in data_by_sender[sender]:\n",
    "            if datapoint not in data_by_point:\n",
    "                data_by_point[datapoint] = set()\n",
    "            data_by_point[datapoint].add(sender)\n",
    "    return data_by_point\n",
    "\n",
    "def get_unicity(dataset,p,npeople = 10000):\n",
    "    \"\"\"\n",
    "    Returns unicity (float) of `dataset` (dict), where `p` (int) is number of points sampled for each \\\n",
    "     person (if they have that many points) and `npeople` (int) is the number of people for whom their \\\n",
    "     uniqueness (for a set of points) is calculated\n",
    "    \"\"\"\n",
    "    \n",
    "    npeople = int(npeople) #Just to make sure\n",
    "    points_to_users = by_point(dataset)\n",
    "    \n",
    "    print(\"User number: \",len(dataset))\n",
    "    print(\"Point number: \",len(points_to_users))\n",
    "\n",
    "    unique_users = set()\n",
    "    users = random.sample(list(dataset.keys()),npeople)\n",
    "    \n",
    "    users_included = set() #<- Users with at least p points\n",
    "\n",
    "    for u in tqdm(users):\n",
    "\n",
    "        u_data = dataset[u]\n",
    "\n",
    "        if len(u_data) < p: # <- NOT len(u_data) <= p\n",
    "            continue\n",
    "        else:\n",
    "            p_points = random.sample(u_data,p)\n",
    "            users_included.add(u)\n",
    "        is_unique = True\n",
    "        \n",
    "        similar_people = set(dataset.keys())\n",
    "\n",
    "        for point in p_points:\n",
    "            similar_people = similar_people.intersection(points_to_users[point])\n",
    "   \n",
    "\n",
    "        if len(similar_people) > 1:\n",
    "            is_unique = False\n",
    "            continue #<-NEED TO CONTINUE NOT BREAK!\n",
    "        \n",
    "        if is_unique:\n",
    "            unique_users.add(u) \n",
    "\n",
    "    print(\"Users included:\",len(users_included))\n",
    "    return len(unique_users)/len(users_included) #<-COMPARING WITH NUMBER OF USERS WITH AT LEAST p POINTS"
   ]
  },
  {
   "cell_type": "markdown",
   "metadata": {},
   "source": [
    "# Notes to self"
   ]
  },
  {
   "cell_type": "code",
   "execution_count": null,
   "metadata": {
    "collapsed": true
   },
   "outputs": [],
   "source": [
    "#Options for Accuracy (acc)\n",
    "curr_acc = 'm' #m = max, a=av, l=low\n",
    "t_acc = 'd'    #'d' (day), 'm' (minute), 's' (second)"
   ]
  },
  {
   "cell_type": "code",
   "execution_count": null,
   "metadata": {
    "collapsed": false,
    "scrolled": true
   },
   "outputs": [],
   "source": [
    "help(load_data_by_sender)"
   ]
  },
  {
   "cell_type": "markdown",
   "metadata": {},
   "source": [
    "Datapoints are [AMOUNT (A), CURRENCY (C), TIME (T), DESTINATION (D)]"
   ]
  },
  {
   "cell_type": "markdown",
   "metadata": {},
   "source": [
    "* XRP counted as being a low value currency in 2014 paper, but it has become comparable to the pound. Tested\n",
    "* User behaviour may have changed"
   ]
  },
  {
   "cell_type": "markdown",
   "metadata": {},
   "source": [
    "# Results from paper\n",
    "![](DiLuzioMeiStefa_results.png)"
   ]
  },
  {
   "cell_type": "markdown",
   "metadata": {},
   "source": [
    "# Results for 7 days (2017-06-21 to 2017-06-28)\n",
    "![](week1_results.png)"
   ]
  },
  {
   "cell_type": "code",
   "execution_count": 40,
   "metadata": {
    "collapsed": false
   },
   "outputs": [],
   "source": [
    "experiments = {\"Am,Tsc,C,D\":['m',True,'s',True],\n",
    "               \"Am,Tsc,-,D\":['m',False,'s',True],\n",
    "               \"Am,Tsc,C,-\":['m',True,'s',False],\n",
    "               :[False,True,'s',True],\n",
    "               \"Ah,Tmn,C,D\":['h',True,'m',True],\n",
    "               \"Aa,Thr,C,D\":['a',True,'h',True],\n",
    "               \"Al,Tdy,C,D\":['l',True,'d',True],\n",
    "               \"Am,-,C,D\":['m',True,False,True],\n",
    "               \"Am,-,-,-\":['m',False,False,False],\n",
    "               \"Al,Tdy,-,-\":['l',False,'d',False]\n",
    "              }\n",
    "experiments_test = {\"Am,Tsc,C,D\":['m',True,'s',True],\n",
    "               \"Am,Tsc,C,-\":['m',True,'s',False],\n",
    "               \"-,Tsc,C,D\":[False,True,'s',True],\n",
    "               }\n",
    "def run_experiment(parameters,p=1,name=\"unnamed_ripple_experiment\"):\n",
    "    '''Run experiment using resolutions defined in `parameters` \\\n",
    "        (Amount res, Include Currency, Time res, Include Destination)\n",
    "        and picking p datapoints for the unicity test\n",
    "        \n",
    "        Pickles the coarsened dataset object to a file based on the `name` passed\n",
    "        '''\n",
    "    print(\"LOADING DATA\")\n",
    "    data_by_sender = load_data_by_sender(files,*parameters)\n",
    "    pickle.dump(data_by_sender,open('{}_p{}-data_by_sender.pkl'.format(name,p),'wb'))\n",
    "    print(\"CALCULATING UNICITY\")\n",
    "    unicity = get_unicity(data_by_sender,p,1e4)\n",
    "    return unicity"
   ]
  },
  {
   "cell_type": "code",
   "execution_count": 41,
   "metadata": {
    "collapsed": false
   },
   "outputs": [
    {
     "name": "stdout",
     "output_type": "stream",
     "text": [
      "Experiment Am,Tsc,C,D: Resolutions: ['m', True, 's', True]\n",
      "LOADING DATA\n",
      "\n",
      "CALCULATING UNICITY\n",
      "User number:  89148\n",
      "Point number:  2310577\n",
      "\n",
      "Users included: 10000\n",
      "Experiment Am,Tsc,-,D: Resolutions: ['m', False, 's', True]\n",
      "LOADING DATA\n",
      "\n",
      "CALCULATING UNICITY\n",
      "User number:  89148\n",
      "Point number:  2310571\n",
      "\n",
      "Users included: 10000\n",
      "Experiment Am,Tsc,C,-: Resolutions: ['m', True, 's', False]\n",
      "LOADING DATA\n",
      "\n",
      "CALCULATING UNICITY\n",
      "User number:  89148\n",
      "Point number:  2216491\n",
      "\n",
      "Users included: 10000\n",
      "Experiment -,Tsc,C,D: Resolutions: [False, True, 's', True]\n",
      "LOADING DATA\n",
      "\n",
      "CALCULATING UNICITY\n",
      "User number:  89148\n",
      "Point number:  2219769\n",
      "\n",
      "Users included: 10000\n",
      "Experiment Ah,Tmn,C,D: Resolutions: ['h', True, 'm', True]\n",
      "LOADING DATA\n",
      "\n",
      "CALCULATING UNICITY\n",
      "User number:  89148\n",
      "Point number:  2058189\n",
      "\n",
      "Users included: 10000\n",
      "Experiment Aa,Thr,C,D: Resolutions: ['a', True, 'h', True]\n",
      "LOADING DATA\n",
      "\n",
      "CALCULATING UNICITY\n",
      "User number:  89148\n",
      "Point number:  1680705\n",
      "\n",
      "Users included: 10000\n",
      "Experiment Al,Tdy,C,D: Resolutions: ['l', True, 'd', True]\n",
      "LOADING DATA\n",
      "\n",
      "CALCULATING UNICITY\n",
      "User number:  89148\n",
      "Point number:  1084807\n",
      "\n",
      "Users included: 10000\n",
      "Experiment Am,-,C,D: Resolutions: ['m', True, False, True]\n",
      "LOADING DATA\n",
      "\n",
      "CALCULATING UNICITY\n",
      "User number:  89148\n",
      "Point number:  770124\n",
      "\n",
      "Users included: 10000\n",
      "Experiment Am,-,-,-: Resolutions: ['m', False, False, False]\n",
      "LOADING DATA\n",
      "\n",
      "CALCULATING UNICITY\n",
      "User number:  89148\n",
      "Point number:  479794\n",
      "\n",
      "Users included: 10000\n",
      "Experiment Al,Tdy,-,-: Resolutions: ['l', False, 'd', False]\n",
      "LOADING DATA\n",
      "\n",
      "CALCULATING UNICITY\n",
      "User number:  89148\n",
      "Point number:  530098\n",
      "\n",
      "Users included: 10000\n"
     ]
    }
   ],
   "source": [
    "results_p1 = {}\n",
    "for exp in experiments:\n",
    "    print(\"Experiment {}: Resolutions: {}\".format(exp,experiments[exp]))\n",
    "    results_p1[exp] = run_experiment(experiments[exp],p=1,name=exp)"
   ]
  },
  {
   "cell_type": "markdown",
   "metadata": {},
   "source": [
    "# Summary"
   ]
  },
  {
   "cell_type": "code",
   "execution_count": 26,
   "metadata": {
    "collapsed": false
   },
   "outputs": [],
   "source": [
    "#Results for p=1, npeople = 1e4, all data from 01/06/2017 to 29/06/2017\n",
    "\n",
    "labels = [\"Am,Tsc,C,D\", #Amount accuracy: Am (m = max), Time accuracy Tsc (sc = seconds), Currency (not suppressed), Destination (not suppressed) \n",
    "          \"Am,Tsc,-,D\", #Amount accuracy: Am (m = max), Time accuracy Tsc (sc = seconds), Currency (suppressed), Destination (not suppressed) \n",
    "          \"Am,Tsc,C,-\", #Amount accuracy: Am (m = max), Time accuracy Tsc (sc = seconds), Currency (not suppressed), Destination (suppressed) \n",
    "          \"-,Tsc,C,D\",  #Amount (suppressed), Time accuracy Tsc (sc = seconds), Currency (not suppressed), Destination (not suppressed) \n",
    "          \"Ah,Tmn,C,D\", #Amount accuracy: Ah (h = high), Time accuracy Tmn (mn = minutes), Currency (not suppressed), Destination (not suppressed) \n",
    "          \"Aa,Thr,C,D\", #Amount accuracy: Aa (a = average), Time accuracy Thr (hr = hours), Currency (not suppressed), Destination (not suppressed) \n",
    "          \"Al,Tdy,C,D\", #Amount accuracy: Al (l = low), Time accuracy Tdy (dy = days), Currency (not suppressed), Destination (not suppressed) \n",
    "          \"Am,-,C,D\",   #Amount accuracy: Am (m = max), Time (suppressed), Currency (not suppressed), Destination (not suppressed) \n",
    "          \"Am,-,-,-\",   #Amount accuracy: Am (m = max), everything else suppressed\n",
    "          \"Al,Tdy,-,-\"] #Amount accuracy: Al (l = low), Time accuracy Tdy (dy = days), Currency (suppressed), Destination (suppressed) \n",
    "\n",
    "#Results for a sample of one week, p=1, npeople = 1e4\n",
    "results_p1_sample = dict()\n",
    "results_p1_sample[\"Am,Tsc,C,D\"] = 0.9901\n",
    "results_p1_sample[\"Am,Tsc,-,D\"] = 0.9906\n",
    "results_p1_sample[\"Am,Tsc,C,-\"] = 0.9827\n",
    "results_p1_sample[\"-,Tsc,C,D\"] = 0.7228\n",
    "results_p1_sample[\"Ah,Tmn,C,D\"] = 0.9856\n",
    "results_p1_sample[\"Aa,Thr,C,D\"] = 0.9039\n",
    "results_p1_sample[\"Al,Tdy,C,D\"] = 0.6856\n",
    "results_p1_sample[\"Am,-,C,D\"] = 0.6652\n",
    "results_p1_sample[\"Am,-,-,-\"] = 0.3243\n",
    "results_p1_sample[\"Al,Tdy,-,-\"] = 0.3423"
   ]
  },
  {
   "cell_type": "code",
   "execution_count": 43,
   "metadata": {
    "collapsed": true
   },
   "outputs": [],
   "source": [
    "#pickle.dump(results_p1,open('results_p1.pkl','wb'))"
   ]
  },
  {
   "cell_type": "markdown",
   "metadata": {},
   "source": [
    ">Results have been pickled. Run next cell to load"
   ]
  },
  {
   "cell_type": "code",
   "execution_count": 7,
   "metadata": {
    "collapsed": false
   },
   "outputs": [],
   "source": [
    "results_p1 = pickle.load(open('results_p1.pkl','rb'))"
   ]
  },
  {
   "cell_type": "code",
   "execution_count": 9,
   "metadata": {
    "collapsed": false
   },
   "outputs": [
    {
     "data": {
      "text/plain": [
       "{'-,Tsc,C,D': 0.7051,\n",
       " 'Aa,Thr,C,D': 0.8926,\n",
       " 'Ah,Tmn,C,D': 0.9843,\n",
       " 'Al,Tdy,-,-': 0.4303,\n",
       " 'Al,Tdy,C,D': 0.7171,\n",
       " 'Am,-,-,-': 0.294,\n",
       " 'Am,-,C,D': 0.5842,\n",
       " 'Am,Tsc,-,D': 0.9944,\n",
       " 'Am,Tsc,C,-': 0.9906,\n",
       " 'Am,Tsc,C,D': 0.9942}"
      ]
     },
     "execution_count": 9,
     "metadata": {},
     "output_type": "execute_result"
    }
   ],
   "source": [
    "results_p1"
   ]
  },
  {
   "cell_type": "code",
   "execution_count": 34,
   "metadata": {
    "collapsed": false,
    "scrolled": false
   },
   "outputs": [
    {
     "data": {
      "image/png": "[encoded data removed]",
      "text/plain": [
       "<matplotlib.figure.Figure at 0x1bebd8cd240>"
      ]
     },
     "metadata": {},
     "output_type": "display_data"
    }
   ],
   "source": [
    "plt.figure(figsize=(12,6))\n",
    "font={'family': 'arial',\n",
    "     'size': 40}\n",
    "plt.title('Unicity of Ripple users for 01/06/2017 to 29/30/2017')\n",
    "plt.barh(range(len(results_p1)),list(results_p1.values()),tick_label=list(results_p1.keys()),label='all data')\n",
    "plt.barh(range(len(results_p1_sample)),list(results_p1_sample.values()),tick_label=list(results_p1_sample.keys()),label='1 week sample')\n",
    "plt.legend()\n",
    "plt.ylabel('Coarsening')\n",
    "plt.xlabel('Unictiy')\n",
    "plt.rc('font',**font)\n",
    "\n",
    "#<- Apologies about the overlapping bar plots, currently working on these"
   ]
  },
  {
   "cell_type": "markdown",
   "metadata": {},
   "source": [
    "Compare with figure from paper:\n",
    "![](DiLuzioMeiStefa_results.png)"
   ]
  },
  {
   "cell_type": "markdown",
   "metadata": {},
   "source": [
    "# Analysis\n",
    "In progress\n",
    "\n",
    "1. Investigating discrepancies between the results calculated here and the results of the paper"
   ]
  },
  {
   "cell_type": "code",
   "execution_count": 45,
   "metadata": {
    "collapsed": false
   },
   "outputs": [],
   "source": [
    "# - Tsc C D\n",
    "'''\n",
    "Paper: \"drops to 89.86%\"\n",
    "'''\n",
    "def by_time(data_by_sender):\n",
    "    '''Convert dictionary of type {sender: {datapoint1,datapoint2...}} to one of type {time: {sender1,sender3,...}}'''\n",
    "    data_by_time = {}\n",
    "    for sender in data_by_sender:\n",
    "        for datapoint in data_by_sender[sender]:\n",
    "            time = datapoint[2]\n",
    "            if time not in data_by_time:\n",
    "                data_by_time[time] = set()\n",
    "            data_by_time[time].add(sender)\n",
    "    return data_by_time\n",
    "data_by_sender = pickle.load(open('-,Tsc,C,D_p1-data_by_sender.pkl','rb'))\n",
    "users_by_time = by_time(data_by_sender)"
   ]
  },
  {
   "cell_type": "markdown",
   "metadata": {},
   "source": [
    ">Maybe somehow the transactions come in batches?"
   ]
  },
  {
   "cell_type": "code",
   "execution_count": 44,
   "metadata": {
    "collapsed": false
   },
   "outputs": [
    {
     "data": {
      "text/plain": [
       "[('2017-08-08T02:21:50', {'rLSQVWfU2ZzCyRTKXUa6oHKbQ225uVrwD1'}),\n",
       " ('2017-07-30T16:07:00', {'rG7QZMnX2uQPFfvozpd1iEjZY64J55Q6pE'})]"
      ]
     },
     "execution_count": 44,
     "metadata": {},
     "output_type": "execute_result"
    }
   ],
   "source": [
    "#Manipulate data\n",
    "dict_sample(users_by_time)"
   ]
  },
  {
   "cell_type": "code",
   "execution_count": 41,
   "metadata": {
    "collapsed": false
   },
   "outputs": [],
   "source": [
    "maxm = 0\n",
    "peak_time = ''\n",
    "data_by_time_agg = {}\n",
    "for time in users_by_time.keys():\n",
    "    data_by_time_agg[time] = len(users_by_time[time])\n",
    "    count = len(users_by_time[time])\n",
    "    if count > maxm:\n",
    "        maxm = count\n",
    "        peak_time = time"
   ]
  },
  {
   "cell_type": "code",
   "execution_count": 42,
   "metadata": {
    "collapsed": false
   },
   "outputs": [
    {
     "data": {
      "text/plain": [
       "<matplotlib.text.Text at 0x1bed8b6cc88>"
      ]
     },
     "execution_count": 42,
     "metadata": {},
     "output_type": "execute_result"
    },
    {
     "data": {
      "image/png": "[encoded data removed]",
      "text/plain": [
       "<matplotlib.figure.Figure at 0x1bed8b9f3c8>"
      ]
     },
     "metadata": {},
     "output_type": "display_data"
    }
   ],
   "source": [
    "plt.figure()\n",
    "plt.title(\"Number of Ripple senders at a given *active* second\")\n",
    "hist = plt.hist(list(data_by_time_agg.values()),bins=57)\n",
    "plt.xlim([0,10])\n",
    "plt.xlabel('number of users per time')"
   ]
  },
  {
   "cell_type": "code",
   "execution_count": 43,
   "metadata": {
    "collapsed": false
   },
   "outputs": [
    {
     "name": "stdout",
     "output_type": "stream",
     "text": [
      "Number of active seconds during which there is only one sender recorded as having made a transaction: 1103434.0\n",
      "0.838249560339\n"
     ]
    }
   ],
   "source": [
    "print(\"Number of active seconds during which there is only one sender recorded as having made a transaction:\",hist[0][0])\n",
    "print(hist[0][0]/len(data_by_time_agg))"
   ]
  },
  {
   "cell_type": "markdown",
   "metadata": {},
   "source": [
    "Previously, when analysing 1 week of data, the number of active seconds during which there is only one sender recorded as having made a transaction was 56529.0, or 53.2%"
   ]
  }
 ],
 "metadata": {
  "kernelspec": {
   "display_name": "Python 3",
   "language": "python",
   "name": "python3"
  },
  "language_info": {
   "codemirror_mode": {
    "name": "ipython",
    "version": 3
   },
   "file_extension": ".py",
   "mimetype": "text/x-python",
   "name": "python",
   "nbconvert_exporter": "python",
   "pygments_lexer": "ipython3",
   "version": "3.6.0"
  }
 },
 "nbformat": 4,
 "nbformat_minor": 2
}
