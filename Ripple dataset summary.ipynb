{
 "cells": [
  {
   "cell_type": "markdown",
   "metadata": {
    "collapsed": true
   },
   "source": [
    "# Summary of the Ripple transaction history from 01/06/2017 - 29/08/2017\n",
    "1. [Cumulative number of transactions over time](#Transactions-over-time)\n",
    "\n",
    "2. Distribution of the number of transactions per user\n",
    "\n",
    "3. Fraction of senders that have at least 1, 2, 3, ..., 200 transactions\n",
    "\n",
    "4. Fraction of senders that are also receivers and vice versa (This is just a bar chart with 2 bars)\n",
    "\n",
    "5. Popularity of destinations\n",
    "\n",
    "6. Popularity of currencies\n",
    "\n",
    "7. Distribution of transaction amount per currency"
   ]
  },
  {
   "cell_type": "code",
   "execution_count": 3,
   "metadata": {
    "collapsed": true
   },
   "outputs": [],
   "source": [
    "#LOAD LIBRARIES\n",
    "import pandas as pd\n",
    "import matplotlib.pyplot as plt\n",
    "import datetime\n",
    "import numpy as np\n",
    "%matplotlib inline"
   ]
  },
  {
   "cell_type": "code",
   "execution_count": 12,
   "metadata": {
    "collapsed": true
   },
   "outputs": [],
   "source": [
    "#LOAD DATA\n",
    "start_date = datetime.date(2017,6,1)\n",
    "end_date = datetime.date(2017,8,29)\n",
    "date_list = pd.date_range(start_date,end_date,freq=\"1D\")\n",
    "\n",
    "files = []\n",
    "for day in date_list:\n",
    "    #print(\"Current date: {}\".format(day.strftime(\"%Y-%m-%d\")))\n",
    "    this_day = day.strftime(\"%Y-%m-%d\")\n",
    "    next_day = (day+datetime.timedelta(days=1)).strftime(\"%Y-%m-%d\")\n",
    "    files.append(pd.read_csv(\"Ripple_transactions_{}_to_{}.csv\".format(this_day,next_day)))\n",
    "dataset['Amount'] = dataset['Amount'].astype('float')\n",
    "dataset = pd.concat(files)"
   ]
  },
  {
   "cell_type": "code",
   "execution_count": 13,
   "metadata": {
    "collapsed": false
   },
   "outputs": [
    {
     "data": {
      "text/html": [
       "<div>\n",
       "<table border=\"1\" class=\"dataframe\">\n",
       "  <thead>\n",
       "    <tr style=\"text-align: right;\">\n",
       "      <th></th>\n",
       "      <th>Amount</th>\n",
       "      <th>Currency</th>\n",
       "      <th>Destination</th>\n",
       "      <th>Sender</th>\n",
       "      <th>Timestamp</th>\n",
       "      <th>Unnamed: 0</th>\n",
       "    </tr>\n",
       "  </thead>\n",
       "  <tbody>\n",
       "    <tr>\n",
       "      <th>0</th>\n",
       "      <td>2949.09</td>\n",
       "      <td>USD</td>\n",
       "      <td>r9Gps6fB9YLuZ87rWx7M9TgLAGK2zsz5s6</td>\n",
       "      <td>r9Gps6fB9YLuZ87rWx7M9TgLAGK2zsz5s6</td>\n",
       "      <td>2017-06-01T00:00:00+00:00</td>\n",
       "      <td>NaN</td>\n",
       "    </tr>\n",
       "    <tr>\n",
       "      <th>1</th>\n",
       "      <td>2e+06</td>\n",
       "      <td>XRP</td>\n",
       "      <td>rUe9M6mWf7RsvB9WpKic6cGWe6vsPexp7M</td>\n",
       "      <td>rUe9M6mWf7RsvB9WpKic6cGWe6vsPexp7M</td>\n",
       "      <td>2017-06-01T00:00:02+00:00</td>\n",
       "      <td>NaN</td>\n",
       "    </tr>\n",
       "    <tr>\n",
       "      <th>2</th>\n",
       "      <td>1.99e+10</td>\n",
       "      <td>XRP</td>\n",
       "      <td>rPujGTiw6nKmMvAiUT6UjpFxT9QrDn9kJP</td>\n",
       "      <td>rfJdAU6BobgadzkJkme6dKq1tzzkvqoEiU</td>\n",
       "      <td>2017-06-01T00:00:30+00:00</td>\n",
       "      <td>NaN</td>\n",
       "    </tr>\n",
       "    <tr>\n",
       "      <th>3</th>\n",
       "      <td>100000</td>\n",
       "      <td>RIP</td>\n",
       "      <td>rHaans8PtgwbacHvXAL3u6TG28gTAtCwr8</td>\n",
       "      <td>r9KG7Du7aFmABzMvDnwuvPaEoMu4Eurwok</td>\n",
       "      <td>2017-06-01T00:00:31+00:00</td>\n",
       "      <td>NaN</td>\n",
       "    </tr>\n",
       "    <tr>\n",
       "      <th>4</th>\n",
       "      <td>2.1e+10</td>\n",
       "      <td>XRP</td>\n",
       "      <td>rpNqAwVKdyWxZoHerUzDfgEEobNQPnQgPU</td>\n",
       "      <td>rJFQgFvtJq2uEDsKHgTaQrp84ZV9jGqkHy</td>\n",
       "      <td>2017-06-01T00:00:40+00:00</td>\n",
       "      <td>NaN</td>\n",
       "    </tr>\n",
       "  </tbody>\n",
       "</table>\n",
       "</div>"
      ],
      "text/plain": [
       "     Amount Currency                         Destination  \\\n",
       "0   2949.09      USD  r9Gps6fB9YLuZ87rWx7M9TgLAGK2zsz5s6   \n",
       "1     2e+06      XRP  rUe9M6mWf7RsvB9WpKic6cGWe6vsPexp7M   \n",
       "2  1.99e+10      XRP  rPujGTiw6nKmMvAiUT6UjpFxT9QrDn9kJP   \n",
       "3    100000      RIP  rHaans8PtgwbacHvXAL3u6TG28gTAtCwr8   \n",
       "4   2.1e+10      XRP  rpNqAwVKdyWxZoHerUzDfgEEobNQPnQgPU   \n",
       "\n",
       "                               Sender                  Timestamp  Unnamed: 0  \n",
       "0  r9Gps6fB9YLuZ87rWx7M9TgLAGK2zsz5s6  2017-06-01T00:00:00+00:00         NaN  \n",
       "1  rUe9M6mWf7RsvB9WpKic6cGWe6vsPexp7M  2017-06-01T00:00:02+00:00         NaN  \n",
       "2  rfJdAU6BobgadzkJkme6dKq1tzzkvqoEiU  2017-06-01T00:00:30+00:00         NaN  \n",
       "3  r9KG7Du7aFmABzMvDnwuvPaEoMu4Eurwok  2017-06-01T00:00:31+00:00         NaN  \n",
       "4  rJFQgFvtJq2uEDsKHgTaQrp84ZV9jGqkHy  2017-06-01T00:00:40+00:00         NaN  "
      ]
     },
     "execution_count": 13,
     "metadata": {},
     "output_type": "execute_result"
    }
   ],
   "source": [
    "dataset.head()"
   ]
  },
  {
   "cell_type": "code",
   "execution_count": 6,
   "metadata": {
    "collapsed": false
   },
   "outputs": [
    {
     "data": {
      "text/plain": [
       "0    r9Gps6fB9YLuZ87rWx7M9TgLAGK2zsz5s6\n",
       "1    rUe9M6mWf7RsvB9WpKic6cGWe6vsPexp7M\n",
       "2    rfJdAU6BobgadzkJkme6dKq1tzzkvqoEiU\n",
       "3    r9KG7Du7aFmABzMvDnwuvPaEoMu4Eurwok\n",
       "4    rJFQgFvtJq2uEDsKHgTaQrp84ZV9jGqkHy\n",
       "Name: Sender, dtype: object"
      ]
     },
     "execution_count": 6,
     "metadata": {},
     "output_type": "execute_result"
    }
   ],
   "source": [
    "dataset.loc[:,'Sender'].head()"
   ]
  },
  {
   "cell_type": "code",
   "execution_count": 14,
   "metadata": {
    "collapsed": false
   },
   "outputs": [
    {
     "data": {
      "text/html": [
       "<div>\n",
       "<table border=\"1\" class=\"dataframe\">\n",
       "  <thead>\n",
       "    <tr style=\"text-align: right;\">\n",
       "      <th></th>\n",
       "      <th>Amount</th>\n",
       "      <th>Currency</th>\n",
       "      <th>Destination</th>\n",
       "      <th>Sender</th>\n",
       "      <th>Timestamp</th>\n",
       "      <th>Unnamed: 0</th>\n",
       "    </tr>\n",
       "  </thead>\n",
       "  <tbody>\n",
       "    <tr>\n",
       "      <th>count</th>\n",
       "      <td>2487188.0</td>\n",
       "      <td>2487188</td>\n",
       "      <td>2487188</td>\n",
       "      <td>2487188</td>\n",
       "      <td>2487188</td>\n",
       "      <td>112689.000000</td>\n",
       "    </tr>\n",
       "    <tr>\n",
       "      <th>unique</th>\n",
       "      <td>481654.0</td>\n",
       "      <td>152</td>\n",
       "      <td>132131</td>\n",
       "      <td>89148</td>\n",
       "      <td>1316355</td>\n",
       "      <td>NaN</td>\n",
       "    </tr>\n",
       "    <tr>\n",
       "      <th>top</th>\n",
       "      <td>1.0</td>\n",
       "      <td>XRP</td>\n",
       "      <td>rwXZe6N3YMtKuGkZDjoqeS6KE3am3U7br</td>\n",
       "      <td>rDCgaaSBAWYfsxUYhCk1n26Na7x8PQGmkq</td>\n",
       "      <td>2017-06-21T05:12:31+00:00</td>\n",
       "      <td>NaN</td>\n",
       "    </tr>\n",
       "    <tr>\n",
       "      <th>freq</th>\n",
       "      <td>379511.0</td>\n",
       "      <td>2233987</td>\n",
       "      <td>344662</td>\n",
       "      <td>90300</td>\n",
       "      <td>78</td>\n",
       "      <td>NaN</td>\n",
       "    </tr>\n",
       "    <tr>\n",
       "      <th>mean</th>\n",
       "      <td>NaN</td>\n",
       "      <td>NaN</td>\n",
       "      <td>NaN</td>\n",
       "      <td>NaN</td>\n",
       "      <td>NaN</td>\n",
       "      <td>18925.826212</td>\n",
       "    </tr>\n",
       "    <tr>\n",
       "      <th>std</th>\n",
       "      <td>NaN</td>\n",
       "      <td>NaN</td>\n",
       "      <td>NaN</td>\n",
       "      <td>NaN</td>\n",
       "      <td>NaN</td>\n",
       "      <td>11096.643751</td>\n",
       "    </tr>\n",
       "    <tr>\n",
       "      <th>min</th>\n",
       "      <td>NaN</td>\n",
       "      <td>NaN</td>\n",
       "      <td>NaN</td>\n",
       "      <td>NaN</td>\n",
       "      <td>NaN</td>\n",
       "      <td>0.000000</td>\n",
       "    </tr>\n",
       "    <tr>\n",
       "      <th>25%</th>\n",
       "      <td>NaN</td>\n",
       "      <td>NaN</td>\n",
       "      <td>NaN</td>\n",
       "      <td>NaN</td>\n",
       "      <td>NaN</td>\n",
       "      <td>9390.000000</td>\n",
       "    </tr>\n",
       "    <tr>\n",
       "      <th>50%</th>\n",
       "      <td>NaN</td>\n",
       "      <td>NaN</td>\n",
       "      <td>NaN</td>\n",
       "      <td>NaN</td>\n",
       "      <td>NaN</td>\n",
       "      <td>18781.000000</td>\n",
       "    </tr>\n",
       "    <tr>\n",
       "      <th>75%</th>\n",
       "      <td>NaN</td>\n",
       "      <td>NaN</td>\n",
       "      <td>NaN</td>\n",
       "      <td>NaN</td>\n",
       "      <td>NaN</td>\n",
       "      <td>28172.000000</td>\n",
       "    </tr>\n",
       "    <tr>\n",
       "      <th>max</th>\n",
       "      <td>NaN</td>\n",
       "      <td>NaN</td>\n",
       "      <td>NaN</td>\n",
       "      <td>NaN</td>\n",
       "      <td>NaN</td>\n",
       "      <td>42002.000000</td>\n",
       "    </tr>\n",
       "  </tbody>\n",
       "</table>\n",
       "</div>"
      ],
      "text/plain": [
       "           Amount Currency                        Destination  \\\n",
       "count   2487188.0  2487188                            2487188   \n",
       "unique   481654.0      152                             132131   \n",
       "top           1.0      XRP  rwXZe6N3YMtKuGkZDjoqeS6KE3am3U7br   \n",
       "freq     379511.0  2233987                             344662   \n",
       "mean          NaN      NaN                                NaN   \n",
       "std           NaN      NaN                                NaN   \n",
       "min           NaN      NaN                                NaN   \n",
       "25%           NaN      NaN                                NaN   \n",
       "50%           NaN      NaN                                NaN   \n",
       "75%           NaN      NaN                                NaN   \n",
       "max           NaN      NaN                                NaN   \n",
       "\n",
       "                                    Sender                  Timestamp  \\\n",
       "count                              2487188                    2487188   \n",
       "unique                               89148                    1316355   \n",
       "top     rDCgaaSBAWYfsxUYhCk1n26Na7x8PQGmkq  2017-06-21T05:12:31+00:00   \n",
       "freq                                 90300                         78   \n",
       "mean                                   NaN                        NaN   \n",
       "std                                    NaN                        NaN   \n",
       "min                                    NaN                        NaN   \n",
       "25%                                    NaN                        NaN   \n",
       "50%                                    NaN                        NaN   \n",
       "75%                                    NaN                        NaN   \n",
       "max                                    NaN                        NaN   \n",
       "\n",
       "           Unnamed: 0  \n",
       "count   112689.000000  \n",
       "unique            NaN  \n",
       "top               NaN  \n",
       "freq              NaN  \n",
       "mean     18925.826212  \n",
       "std      11096.643751  \n",
       "min          0.000000  \n",
       "25%       9390.000000  \n",
       "50%      18781.000000  \n",
       "75%      28172.000000  \n",
       "max      42002.000000  "
      ]
     },
     "execution_count": 14,
     "metadata": {},
     "output_type": "execute_result"
    }
   ],
   "source": [
    "#BASIC SUMMARY\n",
    "# 2.5 million transactions\n",
    "# 152 different currencies\n",
    "# 132,131 receivers\n",
    "# 89,148 senders\n",
    "dataset.describe(include='all')"
   ]
  },
  {
   "cell_type": "markdown",
   "metadata": {},
   "source": [
    "# Transactions over time"
   ]
  },
  {
   "cell_type": "code",
   "execution_count": null,
   "metadata": {
    "collapsed": true
   },
   "outputs": [],
   "source": [
    "#GROUP DATA BY DATE\n",
    "dataset.loc[:,'Timestamp'] = pd.to_datetime(dataset['Timestamp'])\n",
    "dataset['Date'] = dataset['Timestamp'].apply(lambda x: x.date())\n",
    "\n",
    "grouped_date = dataset.groupby('Date')['Amount'] #`grouped_d` = GROUPED by Date"
   ]
  },
  {
   "cell_type": "code",
   "execution_count": null,
   "metadata": {
    "collapsed": false
   },
   "outputs": [],
   "source": [
    "grouped_date_agg = grouped_date.size().values #Aggregated\n",
    "\n",
    "grouped_date_agg_sum = np.cumsum(grouped_date_agg)\n",
    "\n",
    "plt.figure(figsize=(10,5))\n",
    "plt.plot(date_list,grouped_date_agg)\n",
    "plt.xlabel('Date')\n",
    "plt.ylabel('Number of transactions')\n",
    "plt.title('Number of transactions by date 01/06/2017 - 29/08/2017')\n",
    "\n",
    "plt.figure(figsize=(10,5))\n",
    "plt.plot(date_list,grouped_date_agg_sum)\n",
    "plt.xlabel('Date')\n",
    "plt.ylabel('Number of transactions')\n",
    "plt.title('Cumulative number of transactions 01/06/2017 - 29/08/2017')"
   ]
  },
  {
   "cell_type": "markdown",
   "metadata": {},
   "source": [
    "# Distribution of number of transactions by user"
   ]
  },
  {
   "cell_type": "code",
   "execution_count": null,
   "metadata": {
    "collapsed": true
   },
   "outputs": [],
   "source": [
    "grouped_s = dataset.groupby('Sender')\n",
    "grouped_d = dataset.groupby('Destination')"
   ]
  },
  {
   "cell_type": "code",
   "execution_count": null,
   "metadata": {
    "collapsed": true
   },
   "outputs": [],
   "source": [
    "grouped_s_agg = grouped_s.size()\n",
    "grouped_d_agg = grouped_d.size()"
   ]
  },
  {
   "cell_type": "code",
   "execution_count": null,
   "metadata": {
    "collapsed": false
   },
   "outputs": [],
   "source": [
    "print(\"Number of senders: {} \\nNumber of receivers: {}\".format(len(grouped_s_agg),len(grouped_d_agg)))"
   ]
  },
  {
   "cell_type": "code",
   "execution_count": null,
   "metadata": {
    "collapsed": false
   },
   "outputs": [],
   "source": [
    "#DESCRIBE SENDER DISTRIBUTION\n",
    "#max = 12,378\n",
    "#mean = 1\n",
    "grouped_s_agg.describe()"
   ]
  },
  {
   "cell_type": "code",
   "execution_count": null,
   "metadata": {
    "collapsed": false
   },
   "outputs": [],
   "source": [
    "#DESCRIBE RECEIVER DISTRIBUTION\n",
    "#max = 344,662\n",
    "#mean = 2\n",
    "grouped_d_agg.describe()"
   ]
  },
  {
   "cell_type": "code",
   "execution_count": null,
   "metadata": {
    "collapsed": false,
    "scrolled": false
   },
   "outputs": [],
   "source": [
    "#Plotting histograms\n",
    "freq, bin_edges = np.histogram(grouped_s_agg.values,bins=range(len(grouped_s_agg)))\n",
    "proportion = freq/len(grouped_s_agg)\n",
    "at_least = 1-np.cumsum(proportion)\n",
    "\n",
    "plt.figure()\n",
    "plt.xlabel('Number of transactions')\n",
    "plt.ylabel('Number of senders')\n",
    "plt.title('Distribution of transactions by sender')\n",
    "plt.grid()\n",
    "plt.bar(bin_edges[0:30],freq[0:30],width=1,log=True)\n",
    "\n",
    "plt.figure()\n",
    "plt.xlabel('n = Number of transactions')\n",
    "plt.ylabel('Proportion of senders')\n",
    "plt.title('Distribution of senders with at least `n` transactions')\n",
    "plt.grid()\n",
    "plt.bar(bin_edges[0:200],at_least[0:200],width=1,log=True)"
   ]
  },
  {
   "cell_type": "code",
   "execution_count": null,
   "metadata": {
    "collapsed": false
   },
   "outputs": [],
   "source": [
    "freq, bin_edges = np.histogram(grouped_d_agg.values,bins=range(len(grouped_d_agg)))\n",
    "proportion = freq/len(grouped_d_agg)\n",
    "at_least = 1-np.cumsum(proportion)\n",
    "\n",
    "plt.figure()\n",
    "plt.xlabel('Number of transactions')\n",
    "plt.ylabel('Number of receivers')\n",
    "plt.title('Distribution of transactions by destination')\n",
    "plt.grid()\n",
    "plt.bar(bin_edges[0:30],freq[0:30],width=1,log=True)\n",
    "\n",
    "plt.figure()\n",
    "plt.xlabel('n = Number of transactions')\n",
    "plt.ylabel('Proportion of receivers')\n",
    "plt.title('Distribution of receivers with at least `n` transactions')\n",
    "plt.grid()\n",
    "plt.bar(bin_edges[0:200],at_least[0:200],width=1,log=True)"
   ]
  },
  {
   "cell_type": "markdown",
   "metadata": {},
   "source": [
    "# Fraction of senders that are also receivers"
   ]
  },
  {
   "cell_type": "code",
   "execution_count": null,
   "metadata": {
    "collapsed": true
   },
   "outputs": [],
   "source": [
    "senders = set(grouped_s_agg.keys())\n",
    "receivers = set(grouped_d_agg.keys())"
   ]
  },
  {
   "cell_type": "code",
   "execution_count": null,
   "metadata": {
    "collapsed": false
   },
   "outputs": [],
   "source": [
    "rec_intersect_sen = len(senders.intersection(receivers))/len(senders)"
   ]
  },
  {
   "cell_type": "code",
   "execution_count": null,
   "metadata": {
    "collapsed": false
   },
   "outputs": [],
   "source": [
    "sen_intersect_rec = len(receivers.intersection(senders))/len(receivers)"
   ]
  },
  {
   "cell_type": "code",
   "execution_count": null,
   "metadata": {
    "collapsed": false,
    "scrolled": true
   },
   "outputs": [],
   "source": [
    "plt.figure()\n",
    "plt.title('Senders and Receivers - are they different?')\n",
    "plt.ylabel('Proportion of ...')\n",
    "plt.bar([0,1],[rec_intersect_sen,sen_intersect_rec],tick_label=[r'Senders who are also receivers','Receivers who are also senders'])"
   ]
  },
  {
   "cell_type": "markdown",
   "metadata": {},
   "source": [
    "# Popularity of senders"
   ]
  },
  {
   "cell_type": "code",
   "execution_count": null,
   "metadata": {
    "collapsed": false
   },
   "outputs": [],
   "source": [
    "most_pop_sen = grouped_s_agg.nlargest(50)[::-1]\n",
    "\n",
    "trans_sen = dict()\n",
    "trans_rec = dict()\n",
    "tot_trans_by_accnt = dict()\n",
    "for accnt in most_pop_sen.keys():\n",
    "    trans_sen[accnt] = int(grouped_s_agg[accnt])\n",
    "    if accnt in receivers:\n",
    "        trans_rec[accnt] = int(grouped_d_agg[accnt])\n",
    "    else:\n",
    "        trans_rec[accnt] = 0\n",
    "    tot_trans_by_accnt[accnt] =  trans_rec[accnt] + trans_sen[accnt]\n",
    "    \n",
    "\n",
    "plt.figure(figsize=(10,15))\n",
    "plt.title('Top 50 most active senders')\n",
    "plt.xlabel('Proportion of transactions in the whole Ripple system')\n",
    "plt.ylabel('Rank as sender')\n",
    "#Uncomment to plot with the account id\n",
    "#plt.barh(np.arange(0,50,1),most_pop_sen.values/len(dataset),height=.8,tick_label=most_pop_sen.keys())\n",
    "plt.barh(np.arange(0,len(rec_ordered_by_sen),1)*2,most_pop_sen.values/len(dataset),height=.8,tick_label=most_pop_sen.keys(),\n",
    "        label='Proportion of transactions in which account was the sender')\n",
    "rec_ordered_by_sen = dict()\n",
    "for account in most_pop_sen.keys():\n",
    "    if account in receivers:\n",
    "        rec_ordered_by_sen[account] = grouped_d_agg[account]\n",
    "    else:\n",
    "        rec_ordered_by_sen[account] = 0\n",
    "vals = np.asarray(list(rec_ordered_by_sen.values()))/len(dataset)\n",
    "plt.barh(np.arange(0,len(rec_ordered_by_sen),1)*2-.8,vals,height=.8,\n",
    "        label='Proportion of transactions in which account was the receiver')\n",
    "plt.legend()"
   ]
  },
  {
   "cell_type": "markdown",
   "metadata": {},
   "source": [
    "## Analysis\n",
    "Of the top 50 senders, 15 did not *receive* any transactions. This suggests these accounts may be some kind of automatic account. So where do they get the money from?\n",
    "\n"
   ]
  },
  {
   "cell_type": "markdown",
   "metadata": {},
   "source": [
    "# Popularity of Receivers"
   ]
  },
  {
   "cell_type": "code",
   "execution_count": null,
   "metadata": {
    "collapsed": false
   },
   "outputs": [],
   "source": [
    "most_pop_rec = grouped_d_agg.nlargest(50)[::-1]\n",
    "\n",
    "plt.figure(figsize=(10,15))\n",
    "plt.title('Top 50 most active receivers')\n",
    "plt.xlabel('Proportion of transactions')\n",
    "plt.barh(np.arange(0,50,1),most_pop_rec.values/len(dataset),height=.8,tick_label=most_pop_rec.keys())"
   ]
  },
  {
   "cell_type": "code",
   "execution_count": null,
   "metadata": {
    "collapsed": false
   },
   "outputs": [],
   "source": [
    "top50d_andtop50s = set(grouped_d_agg.nlargest(50).keys()).intersection(set(grouped_s_agg.nlargest(50).keys()))\n",
    "print('How many of the top 50 receivers are also in the top 50 senders? {}'.format(len(top50d_andtop50s)))\n",
    "print('How many of the top 50 receivers also senders?')\n",
    "len(grouped_d_agg.nlargest(50).keys().intersection(senders))\n",
    "print(\"Which aren't?\")\n",
    "for d in grouped_d_agg.nlargest(50).keys():\n",
    "    if d not in senders:\n",
    "        print(d)\n",
    "#rwXZe6N3YMtKuGkZDjoqeS6KE3am3U7br is the most active destination"
   ]
  },
  {
   "cell_type": "code",
   "execution_count": null,
   "metadata": {
    "collapsed": false
   },
   "outputs": [],
   "source": [
    "plt.figure(figsize=(10,15))\n",
    "plt.title('Sending behaviour of the 50 most popular receivers')\n",
    "plt.xlabel('Proportion of transactions in which account was the sender')\n",
    "plt.ylabel('Rank as a receiver')\n",
    "senders_ordered_by_rec = dict()\n",
    "for account in most_pop_rec.keys():\n",
    "    if account in senders:\n",
    "        senders_ordered_by_rec[account] = grouped_s_agg[account]\n",
    "    else:\n",
    "        senders_ordered_by_rec[account] = 0\n",
    "vals = np.asarray(list(senders_ordered_by_rec.values()))/len(dataset)\n",
    "plt.barh(np.arange(0,len(senders_ordered_by_rec),1),vals,height=.8,tick_label=range(1,len(senders_ordered_by_rec)+1)[::-1])"
   ]
  },
  {
   "cell_type": "code",
   "execution_count": null,
   "metadata": {
    "collapsed": false
   },
   "outputs": [],
   "source": [
    "plt.figure(figsize=(10,15))\n",
    "plt.title('Receiving behaviour of the 50 most popular senders')\n",
    "plt.xlabel('Proportion of transactions in which account was the receiver')\n",
    "plt.ylabel('Rank of sender')\n",
    "rec_ordered_by_sen = dict()\n",
    "for account in most_pop_sen.keys():\n",
    "    if account in receivers:\n",
    "        rec_ordered_by_sen[account] = grouped_d_agg[account]\n",
    "    else:\n",
    "        rec_ordered_by_sen[account] = 0\n",
    "vals = np.asarray(list(rec_ordered_by_sen.values()))/len(dataset)\n",
    "plt.barh(np.arange(0,len(rec_ordered_by_sen),1),vals,height=.8,tick_label=range(1,len(rec_ordered_by_sen)+1)[::-1])"
   ]
  },
  {
   "cell_type": "markdown",
   "metadata": {},
   "source": [
    "# Popularity of different currencies"
   ]
  },
  {
   "cell_type": "code",
   "execution_count": 10,
   "metadata": {
    "collapsed": true
   },
   "outputs": [],
   "source": [
    "#Amount by currency\n",
    "grouped_c = dataset.groupby('Currency')\n",
    "grouped_c_agg = grouped_c.size()"
   ]
  },
  {
   "cell_type": "code",
   "execution_count": null,
   "metadata": {
    "collapsed": true
   },
   "outputs": [],
   "source": [
    "#Which currencies are most popular"
   ]
  },
  {
   "cell_type": "code",
   "execution_count": 47,
   "metadata": {
    "collapsed": false
   },
   "outputs": [
    {
     "data": {
      "text/plain": [
       "Currency\n",
       "XRP    2233987\n",
       "CNY      49779\n",
       "USD      41469\n",
       "BTC      40399\n",
       "ETH      33006\n",
       "JPY      26526\n",
       "GCB      23283\n",
       "EUR       8991\n",
       "CCK       6080\n",
       "XLM       5530\n",
       "dtype: int64"
      ]
     },
     "execution_count": 47,
     "metadata": {},
     "output_type": "execute_result"
    }
   ],
   "source": [
    "grouped_c_agg.nlargest(10)"
   ]
  },
  {
   "cell_type": "code",
   "execution_count": 56,
   "metadata": {
    "collapsed": false
   },
   "outputs": [
    {
     "data": {
      "text/plain": [
       "0.89819788451858085"
      ]
     },
     "execution_count": 56,
     "metadata": {},
     "output_type": "execute_result"
    }
   ],
   "source": [
    "#What proportion of transactions are made using XRP?\n",
    "grouped_c_agg['XRP']/len(dataset)"
   ]
  },
  {
   "cell_type": "code",
   "execution_count": 57,
   "metadata": {
    "collapsed": false
   },
   "outputs": [
    {
     "name": "stdout",
     "output_type": "stream",
     "text": [
      "The top ten genuine currencies (excluding CCK and GCB) account for 98.3% of transactions\n"
     ]
    },
    {
     "data": {
      "image/png": "[encoded data removed]",
      "text/plain": [
       "<matplotlib.figure.Figure at 0x20c851443c8>"
      ]
     },
     "metadata": {},
     "output_type": "display_data"
    }
   ],
   "source": [
    "#We probably aren't interested in the less used currrencies, so take the top 10 currencies \\\n",
    "# (XRP,CNY,USD,BTC,ETH,JPY,GCB,EUR,CCK,XLM)\n",
    "# * XRP is the native currency of Ripple\n",
    "# * CNY is Chinese Yuan\n",
    "# * USD is US dollars\n",
    "# * BTC is Bitcoin\n",
    "# * ETH is Etherium\n",
    "# * JPY is Japanese Yen\n",
    "# * GCB appears to be a scam currency https://www.xrpchat.com/topic/2392-gcb-scam-detail/\n",
    "# * EUR I shouldn't need to explain\n",
    "# * CCK is also probably some scam currency as there are no references to it anywhere else\n",
    "# * XLM is Stellar Lumens (another cryptocurrency)\n",
    "plt.figure()\n",
    "plt.title('Number of transactions by currency (log plot)')\n",
    "grouped_c_agg.nlargest(15).plot.bar(log=True) #For the detail\n",
    "\n",
    "valid_proportion = (sum(grouped_c_agg.nlargest(12))-(grouped_c_agg['CCK']+grouped_c_agg['GCB']))/len(dataset)\n",
    "print(\"The top ten genuine currencies (excluding CCK and GCB) account for {:.1%} of transactions\".format(valid_proportion))\n"
   ]
  },
  {
   "cell_type": "code",
   "execution_count": 78,
   "metadata": {
    "collapsed": false
   },
   "outputs": [
    {
     "data": {
      "text/plain": [
       "<matplotlib.axes._subplots.AxesSubplot at 0x214e6a810f0>"
      ]
     },
     "execution_count": 78,
     "metadata": {},
     "output_type": "execute_result"
    },
    {
     "data": {
      "image/png": "[encoded data removed]",
      "text/plain": [
       "<matplotlib.figure.Figure at 0x214883b0978>"
      ]
     },
     "metadata": {},
     "output_type": "display_data"
    }
   ],
   "source": [
    "# Just in case you are interested in the full distribution of the different currencies, here they are:\n",
    "grouped_c_agg = grouped_c.count()\n",
    "plt.figure(figsize=(10,25))\n",
    "plt.title('Number of transactions by currency (log plot)')\n",
    "grouped_c_agg['Amount'].plot.barh(log=True)"
   ]
  },
  {
   "cell_type": "markdown",
   "metadata": {},
   "source": [
    "# Distribution of XRP transaction size"
   ]
  },
  {
   "cell_type": "code",
   "execution_count": 93,
   "metadata": {
    "collapsed": false
   },
   "outputs": [
    {
     "name": "stdout",
     "output_type": "stream",
     "text": [
      "Number of XRP transactions: 2233987\n"
     ]
    },
    {
     "data": {
      "text/plain": [
       "count     2233987.0\n",
       "unique     382097.0\n",
       "top             1.0\n",
       "freq       374966.0\n",
       "Name: Amount, dtype: float64"
      ]
     },
     "execution_count": 93,
     "metadata": {},
     "output_type": "execute_result"
    },
    {
     "data": {
      "image/png": "[encoded data removed]",
      "text/plain": [
       "<matplotlib.figure.Figure at 0x2148760f2e8>"
      ]
     },
     "metadata": {},
     "output_type": "display_data"
    }
   ],
   "source": [
    "dict_c = {}\n",
    "for currency,df in grouped_c:\n",
    "    dict_c[currency] = df\n",
    "\n",
    "XRP_df = dict_c['XRP']\n",
    "#At the time, £1 = 6XRP [https://www.mataf.net/en/currency/converter-GBP-XRP?m1=1]\n",
    "\n",
    "XRP_df.loc[:,'Amount_in_XRP'] = XRP_df.loc[:,'Amount'].astype('float')*1e-6\n",
    "plt.figure(figsize=(15,5))\n",
    "plt.ylabel('Number of transactions')\n",
    "plt.xlabel('Amount in transaction (XRP)')\n",
    "plt.title('Distribution of transactions using XRP')\n",
    "XRP_df['Amount_in_XRP'].hist(range=[1,1e3],bins=1000)\n",
    "print(\"Number of XRP transactions: {}\".format(len(XRP_df['Amount'])))\n",
    "XRP_df['Amount'].describe()"
   ]
  },
  {
   "cell_type": "code",
   "execution_count": 89,
   "metadata": {
    "collapsed": false
   },
   "outputs": [
    {
     "name": "stdout",
     "output_type": "stream",
     "text": [
      "Number of CNY transactions: 49779\n"
     ]
    },
    {
     "data": {
      "text/plain": [
       "count     49779.0\n",
       "unique    19482.0\n",
       "top       10000.0\n",
       "freq       2353.0\n",
       "Name: Amount, dtype: float64"
      ]
     },
     "execution_count": 89,
     "metadata": {},
     "output_type": "execute_result"
    },
    {
     "data": {
      "image/png": "[encoded data removed]",
      "text/plain": [
       "<matplotlib.figure.Figure at 0x21481f9f748>"
      ]
     },
     "metadata": {},
     "output_type": "display_data"
    }
   ],
   "source": [
    "\n",
    "CNY_df = dict_c['CNY']\n",
    "\n",
    "plt.figure(figsize=(15,5))\n",
    "plt.ylabel('Number of transactions')\n",
    "plt.xlabel('Amount in transaction (Yuan)')\n",
    "plt.title('Distribution of transactions using CNY')\n",
    "CNY_df['Amount'].astype('float').hist(range=[1,1e4],bins=1000)\n",
    "print(\"Number of CNY transactions: {}\".format(len(CNY_df['Amount'])))\n",
    "CNY_df['Amount'].describe()"
   ]
  },
  {
   "cell_type": "markdown",
   "metadata": {},
   "source": [
    "> There are lots of transactions involving 10000 Yuan"
   ]
  }
 ],
 "metadata": {
  "kernelspec": {
   "display_name": "Python 3",
   "language": "python",
   "name": "python3"
  },
  "language_info": {
   "codemirror_mode": {
    "name": "ipython",
    "version": 3
   },
   "file_extension": ".py",
   "mimetype": "text/x-python",
   "name": "python",
   "nbconvert_exporter": "python",
   "pygments_lexer": "ipython3",
   "version": "3.6.0"
  }
 },
 "nbformat": 4,
 "nbformat_minor": 2
}
